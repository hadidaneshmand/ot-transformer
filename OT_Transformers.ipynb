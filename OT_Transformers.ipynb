{
  "cells": [
    {
      "cell_type": "markdown",
      "metadata": {
        "id": "6vF7KQHhOGxu"
      },
      "source": [
        "This notebook presents codes used to generate plots in paper \"Provable optimal transport with transformers: The essence of depth and prompt engineering\" by Hadi Daneshmand. If you have questions, please reach out to hdanesh [at] mit [dot] edu"
      ]
    },
    {
      "cell_type": "code",
      "execution_count": null,
      "metadata": {
        "colab": {
          "base_uri": "https://localhost:8080/"
        },
        "id": "Xl4e8PrpP5mI",
        "outputId": "43f74112-1a2e-426a-a297-177fa74a67bb"
      },
      "outputs": [
        {
          "name": "stdout",
          "output_type": "stream",
          "text": [
            "Collecting POT\n",
            "  Downloading POT-0.9.4-cp310-cp310-manylinux_2_17_x86_64.manylinux2014_x86_64.whl.metadata (32 kB)\n",
            "Requirement already satisfied: numpy>=1.16 in /usr/local/lib/python3.10/dist-packages (from POT) (1.26.4)\n",
            "Requirement already satisfied: scipy>=1.6 in /usr/local/lib/python3.10/dist-packages (from POT) (1.13.1)\n",
            "Downloading POT-0.9.4-cp310-cp310-manylinux_2_17_x86_64.manylinux2014_x86_64.whl (835 kB)\n",
            "\u001b[?25l   \u001b[90m━━━━━━━━━━━━━━━━━━━━━━━━━━━━━━━━━━━━━━━━\u001b[0m \u001b[32m0.0/835.4 kB\u001b[0m \u001b[31m?\u001b[0m eta \u001b[36m-:--:--\u001b[0m\r\u001b[2K   \u001b[90m━━━━━━━━━━━━━━━━━━━━━━━━━━━━━━━━━━━━━━━━\u001b[0m \u001b[32m835.4/835.4 kB\u001b[0m \u001b[31m37.9 MB/s\u001b[0m eta \u001b[36m0:00:00\u001b[0m\n",
            "\u001b[?25hInstalling collected packages: POT\n",
            "Successfully installed POT-0.9.4\n"
          ]
        }
      ],
      "source": [
        "!pip install POT #(run this line to install required POT library)"
      ]
    },
    {
      "cell_type": "code",
      "execution_count": null,
      "metadata": {
        "id": "_EP2DR37my9g"
      },
      "outputs": [],
      "source": [
        "import numpy as np\n",
        "from matplotlib import pyplot as plt\n",
        "from google.colab import files"
      ]
    },
    {
      "cell_type": "markdown",
      "metadata": {
        "id": "5vz-DxAq09Uo"
      },
      "source": [
        "# Experimental validations for Theorem 1 and 2\n",
        "\n",
        "Here, we implement experiments in the section 6.1  of the paper\n",
        "\n"
      ]
    },
    {
      "cell_type": "code",
      "execution_count": null,
      "metadata": {
        "colab": {
          "base_uri": "https://localhost:8080/",
          "height": 1000
        },
        "id": "cs47XllWAdow",
        "outputId": "5031b4f6-177d-4aa6-aa61-4190df4a7614"
      },
      "outputs": [
        {
          "output_type": "display_data",
          "data": {
            "text/plain": [
              "<IPython.core.display.Javascript object>"
            ],
            "application/javascript": [
              "\n",
              "    async function download(id, filename, size) {\n",
              "      if (!google.colab.kernel.accessAllowed) {\n",
              "        return;\n",
              "      }\n",
              "      const div = document.createElement('div');\n",
              "      const label = document.createElement('label');\n",
              "      label.textContent = `Downloading \"${filename}\": `;\n",
              "      div.appendChild(label);\n",
              "      const progress = document.createElement('progress');\n",
              "      progress.max = size;\n",
              "      div.appendChild(progress);\n",
              "      document.body.appendChild(div);\n",
              "\n",
              "      const buffers = [];\n",
              "      let downloaded = 0;\n",
              "\n",
              "      const channel = await google.colab.kernel.comms.open(id);\n",
              "      // Send a message to notify the kernel that we're ready.\n",
              "      channel.send({})\n",
              "\n",
              "      for await (const message of channel.messages) {\n",
              "        // Send a message to notify the kernel that we're ready.\n",
              "        channel.send({})\n",
              "        if (message.buffers) {\n",
              "          for (const buffer of message.buffers) {\n",
              "            buffers.push(buffer);\n",
              "            downloaded += buffer.byteLength;\n",
              "            progress.value = downloaded;\n",
              "          }\n",
              "        }\n",
              "      }\n",
              "      const blob = new Blob(buffers, {type: 'application/binary'});\n",
              "      const a = document.createElement('a');\n",
              "      a.href = window.URL.createObjectURL(blob);\n",
              "      a.download = filename;\n",
              "      div.appendChild(a);\n",
              "      a.click();\n",
              "      div.remove();\n",
              "    }\n",
              "  "
            ]
          },
          "metadata": {}
        },
        {
          "output_type": "display_data",
          "data": {
            "text/plain": [
              "<IPython.core.display.Javascript object>"
            ],
            "application/javascript": [
              "download(\"download_4bc0668d-a274-40fc-be79-e97575a9af69\", \"att0.png\", 6249)"
            ]
          },
          "metadata": {}
        },
        {
          "output_type": "display_data",
          "data": {
            "text/plain": [
              "<IPython.core.display.Javascript object>"
            ],
            "application/javascript": [
              "\n",
              "    async function download(id, filename, size) {\n",
              "      if (!google.colab.kernel.accessAllowed) {\n",
              "        return;\n",
              "      }\n",
              "      const div = document.createElement('div');\n",
              "      const label = document.createElement('label');\n",
              "      label.textContent = `Downloading \"${filename}\": `;\n",
              "      div.appendChild(label);\n",
              "      const progress = document.createElement('progress');\n",
              "      progress.max = size;\n",
              "      div.appendChild(progress);\n",
              "      document.body.appendChild(div);\n",
              "\n",
              "      const buffers = [];\n",
              "      let downloaded = 0;\n",
              "\n",
              "      const channel = await google.colab.kernel.comms.open(id);\n",
              "      // Send a message to notify the kernel that we're ready.\n",
              "      channel.send({})\n",
              "\n",
              "      for await (const message of channel.messages) {\n",
              "        // Send a message to notify the kernel that we're ready.\n",
              "        channel.send({})\n",
              "        if (message.buffers) {\n",
              "          for (const buffer of message.buffers) {\n",
              "            buffers.push(buffer);\n",
              "            downloaded += buffer.byteLength;\n",
              "            progress.value = downloaded;\n",
              "          }\n",
              "        }\n",
              "      }\n",
              "      const blob = new Blob(buffers, {type: 'application/binary'});\n",
              "      const a = document.createElement('a');\n",
              "      a.href = window.URL.createObjectURL(blob);\n",
              "      a.download = filename;\n",
              "      div.appendChild(a);\n",
              "      a.click();\n",
              "      div.remove();\n",
              "    }\n",
              "  "
            ]
          },
          "metadata": {}
        },
        {
          "output_type": "display_data",
          "data": {
            "text/plain": [
              "<IPython.core.display.Javascript object>"
            ],
            "application/javascript": [
              "download(\"download_5297f315-7ea0-4209-93b7-912c3ab79220\", \"att10000.png\", 6458)"
            ]
          },
          "metadata": {}
        },
        {
          "output_type": "display_data",
          "data": {
            "text/plain": [
              "<IPython.core.display.Javascript object>"
            ],
            "application/javascript": [
              "\n",
              "    async function download(id, filename, size) {\n",
              "      if (!google.colab.kernel.accessAllowed) {\n",
              "        return;\n",
              "      }\n",
              "      const div = document.createElement('div');\n",
              "      const label = document.createElement('label');\n",
              "      label.textContent = `Downloading \"${filename}\": `;\n",
              "      div.appendChild(label);\n",
              "      const progress = document.createElement('progress');\n",
              "      progress.max = size;\n",
              "      div.appendChild(progress);\n",
              "      document.body.appendChild(div);\n",
              "\n",
              "      const buffers = [];\n",
              "      let downloaded = 0;\n",
              "\n",
              "      const channel = await google.colab.kernel.comms.open(id);\n",
              "      // Send a message to notify the kernel that we're ready.\n",
              "      channel.send({})\n",
              "\n",
              "      for await (const message of channel.messages) {\n",
              "        // Send a message to notify the kernel that we're ready.\n",
              "        channel.send({})\n",
              "        if (message.buffers) {\n",
              "          for (const buffer of message.buffers) {\n",
              "            buffers.push(buffer);\n",
              "            downloaded += buffer.byteLength;\n",
              "            progress.value = downloaded;\n",
              "          }\n",
              "        }\n",
              "      }\n",
              "      const blob = new Blob(buffers, {type: 'application/binary'});\n",
              "      const a = document.createElement('a');\n",
              "      a.href = window.URL.createObjectURL(blob);\n",
              "      a.download = filename;\n",
              "      div.appendChild(a);\n",
              "      a.click();\n",
              "      div.remove();\n",
              "    }\n",
              "  "
            ]
          },
          "metadata": {}
        },
        {
          "output_type": "display_data",
          "data": {
            "text/plain": [
              "<IPython.core.display.Javascript object>"
            ],
            "application/javascript": [
              "download(\"download_8fcbad2c-9e46-44c9-935c-d6a1b12911db\", \"att20000.png\", 6458)"
            ]
          },
          "metadata": {}
        },
        {
          "output_type": "stream",
          "name": "stdout",
          "text": [
            "[0.02626243 0.12332474 0.25010717 0.37497089 0.49998431 0.62484804\n",
            " 0.75163046 0.84869278 0.43749965]\n",
            "[0.25  0.125 0.625 0.5   0.375 0.75  0.    0.875]\n",
            "[0 1 2 3 4 5 6 7]\n"
          ]
        },
        {
          "output_type": "display_data",
          "data": {
            "text/plain": [
              "<Figure size 640x480 with 1 Axes>"
            ],
            "image/png": "[encoded data removed]"
          },
          "metadata": {}
        },
        {
          "output_type": "display_data",
          "data": {
            "text/plain": [
              "<Figure size 640x480 with 1 Axes>"
            ],
            "image/png": "[encoded data removed]"
          },
          "metadata": {}
        },
        {
          "output_type": "display_data",
          "data": {
            "text/plain": [
              "<Figure size 640x480 with 1 Axes>"
            ],
            "image/png": "[encoded data removed]"
          },
          "metadata": {}
        }
      ],
      "source": [
        "# optimal transport with attention layers\n",
        "from matplotlib import pyplot as plt\n",
        "n = 8\n",
        "x = np.random.permutation(n)/float(n)\n",
        "y = []\n",
        "for j in range(n):\n",
        "  y.append(j)\n",
        "y = np.asarray(y)\n",
        "x = np.asarray(x)\n",
        "Z = []\n",
        "eta = 0.1\n",
        "Z.append(np.r_[x**2,0])\n",
        "Z.append(np.r_[x,0])\n",
        "Z.append(np.r_[y**2,0])\n",
        "Z.append(np.r_[y,0])\n",
        "for i in range(3):\n",
        "  Z.append(np.r_[np.ones(n),0])\n",
        "Z.append(np.r_[np.ones(n),-1/n])\n",
        "u = np.random.randn(n)\n",
        "v = np.random.rand(n)\n",
        "Z.append(np.r_[u,0])\n",
        "Z.append(np.r_[v,0])\n",
        "Z.append(np.r_[np.zeros(n),0])\n",
        "Z = np.asarray(Z)\n",
        "Z = Z.T\n",
        "mp = 11\n",
        "Q = np.zeros((mp,mp))\n",
        "Q[4,2] = -1\n",
        "Q[1,3] = 2\n",
        "Q[0,4] = -1\n",
        "Q[8,5] = 1\n",
        "Q[5,6] = -1*float(eta)\n",
        "Q[6,9] = 1\n",
        "Q = Q/eta\n",
        "\n",
        "P = np.zeros((mp,mp))\n",
        "P[7,8] = 1\n",
        "\n",
        "\n",
        "### Unit Test 1 (Passed) checking whether the transformer can construct the exp matrix\n",
        "# A = Z @ Q @ Z.T\n",
        "# M = A[0:n,0:n]\n",
        "# onev = np.ones(n)\n",
        "# A = np.outer(u,onev)\n",
        "# B = np.outer(onev,v)\n",
        "# Delta = A + B\n",
        "# C = np.zeros((n,n))\n",
        "# for i in range(n):\n",
        "#   for j in range(n):\n",
        "#     C[i,j] = (x[i]-y[j])**2\n",
        "# M2 = (-C + Delta)/eta - 1\n",
        "# np.linalg.norm(M2-M)\n",
        "\n",
        "def atten(Z,Q,P):\n",
        "  A = Z @ Q @ Z.T\n",
        "  M = np.exp(A)\n",
        "  sums = np.sum(M,axis=1)\n",
        "  M = (M.T/sums).T\n",
        "  return M @ Z @ P\n",
        "\n",
        "def atten_last(Z,Q):\n",
        "  A = Z @ Q @ Z.T\n",
        "  n = Z.shape[0]-1\n",
        "  B = np.zeros((n+1,n+1))\n",
        "  B[:,n] = -np.Inf\n",
        "  # B[n,:] = -np.Inf\n",
        "  M = np.exp(A+B)\n",
        "  sums = np.sum(M,axis=1)+0.0000001\n",
        "  M = (M.T/sums).T\n",
        "  P = np.zeros((mp,mp))\n",
        "  P[1,10] = 1\n",
        "  return M[0:n,0:n], M @ Z @ P\n",
        "# ### Unit Test 2 (Passed) checking whether one head implements updates for u\n",
        "#onev = np.ones(n)\n",
        "# A1 = np.outer(u,onev)\n",
        "# B1 = np.outer(onev,v)\n",
        "# Delta = A1 + B1\n",
        "# C = np.zeros((n,n))\n",
        "# for i in range(n):\n",
        "#   for j in range(n):\n",
        "#     C[i,j] = (x[i]-y[j])**2\n",
        "# M2 = (-C + Delta)/eta - 1\n",
        "# M1 = -C + Delta\n",
        "# X = np.exp(M1/eta-1)\n",
        "# norms = np.sum(X,axis=1) + 1\n",
        "# D = np.diag(1/norms)\n",
        "# u1 = u - gamma*D @ (X @ onev-onev/n)\n",
        "# print(Z1[:,8])\n",
        "# print(u1)\n",
        "# D @ X\n",
        "Q2 = np.zeros((mp,mp))\n",
        "Q2[4,0] = -1\n",
        "Q2[3,1] = 2\n",
        "Q2[2,4] = -1\n",
        "Q2[9,5] = 1\n",
        "Q2[5,6] = -1*eta\n",
        "Q2[6,8] = 1\n",
        "Q2 = Q2/eta\n",
        "Z @ Q2\n",
        "P2 = np.zeros((mp,mp))\n",
        "P2[7,9] = 1\n",
        "Z2 = atten(Z,Q2,P2)\n",
        "\n",
        "\n",
        "# Unit Test 3 (Passed) check whether the transformer implements updates for v\n",
        "# onev = np.ones(n)\n",
        "# A1 = np.outer(u,onev)\n",
        "# B1 = np.outer(onev,v)\n",
        "# Delta = A1 + B1\n",
        "# C = np.zeros((n,n))\n",
        "# for i in range(n):\n",
        "#   for j in range(n):\n",
        "#     C[i,j] = (x[i]-y[j])**2\n",
        "# M2 = (-C + Delta)/eta - 1\n",
        "# M1 = -C + Delta\n",
        "# X = np.exp(M1/eta-1)\n",
        "# A = Z @ Q2 @ Z.T\n",
        "# P = np.zeros((mp,mp))\n",
        "# P[7,8] = 1\n",
        "# M = np.exp(A)\n",
        "# sums = np.sum(M,axis=1)\n",
        "# M = (M.T/sums).T\n",
        "# print(A)\n",
        "# print(M1/eta-1)\n",
        "# X = X.T\n",
        "# norms = np.sum(X,axis=1) + 1\n",
        "# D = np.diag(1/norms)\n",
        "# v1 = v - gamma*D @ (X @ onev- onev/n)\n",
        "# print(v1)\n",
        "# print(Z2[:,9])\n",
        "gamma = 0.05\n",
        "T = 20001\n",
        "for i in range(T):\n",
        "  if i % 10000 == 0:\n",
        "    plt.figure()\n",
        "    attM, Z_last= atten_last(Z,Q2)\n",
        "    plt.imshow(np.abs(attM))\n",
        "    name = 'att%i.png' % i\n",
        "    plt.savefig(name,bbox_inches='tight')\n",
        "    files.download(name)\n",
        "  Z = Z - gamma*atten(Z,Q,P)-gamma*atten(Z,Q2,P2)\n",
        "print(Z_last[:,mp-1])\n",
        "print(x)\n",
        "print(y)"
      ]
    },
    {
      "cell_type": "code",
      "execution_count": null,
      "metadata": {
        "colab": {
          "base_uri": "https://localhost:8080/",
          "height": 921
        },
        "id": "b384xr1Q1NpK",
        "outputId": "bedb4d18-7ccb-42f0-e8d3-f51a1f328814"
      },
      "outputs": [
        {
          "name": "stdout",
          "output_type": "stream",
          "text": [
            "It.  |Err         \n",
            "-------------------\n",
            "    0|1.921690e+00|\n",
            "   10|4.245388e-01|\n",
            "   20|1.287874e-01|\n",
            "   30|5.131708e-02|\n",
            "   40|2.148951e-02|\n",
            "   50|9.080398e-03|\n",
            "   60|3.843145e-03|\n",
            "   70|1.627027e-03|\n",
            "   80|6.888513e-04|\n",
            "   90|2.916488e-04|\n",
            "  100|1.234797e-04|\n",
            "  110|5.227948e-05|\n",
            "  120|2.213435e-05|\n",
            "  130|9.371356e-06|\n",
            "  140|3.967693e-06|\n",
            "  150|1.679862e-06|\n",
            "  160|7.112287e-07|\n",
            "  170|3.011237e-07|\n",
            "  180|1.274913e-07|\n",
            "  190|5.397792e-08|\n",
            "It.  |Err         \n",
            "-------------------\n",
            "  200|2.285345e-08|\n",
            "  210|9.675810e-09|\n",
            "  220|4.096594e-09|\n",
            "  230|1.734437e-09|\n"
          ]
        },
        {
          "data": {
            "application/javascript": [
              "\n",
              "    async function download(id, filename, size) {\n",
              "      if (!google.colab.kernel.accessAllowed) {\n",
              "        return;\n",
              "      }\n",
              "      const div = document.createElement('div');\n",
              "      const label = document.createElement('label');\n",
              "      label.textContent = `Downloading \"${filename}\": `;\n",
              "      div.appendChild(label);\n",
              "      const progress = document.createElement('progress');\n",
              "      progress.max = size;\n",
              "      div.appendChild(progress);\n",
              "      document.body.appendChild(div);\n",
              "\n",
              "      const buffers = [];\n",
              "      let downloaded = 0;\n",
              "\n",
              "      const channel = await google.colab.kernel.comms.open(id);\n",
              "      // Send a message to notify the kernel that we're ready.\n",
              "      channel.send({})\n",
              "\n",
              "      for await (const message of channel.messages) {\n",
              "        // Send a message to notify the kernel that we're ready.\n",
              "        channel.send({})\n",
              "        if (message.buffers) {\n",
              "          for (const buffer of message.buffers) {\n",
              "            buffers.push(buffer);\n",
              "            downloaded += buffer.byteLength;\n",
              "            progress.value = downloaded;\n",
              "          }\n",
              "        }\n",
              "      }\n",
              "      const blob = new Blob(buffers, {type: 'application/binary'});\n",
              "      const a = document.createElement('a');\n",
              "      a.href = window.URL.createObjectURL(blob);\n",
              "      a.download = filename;\n",
              "      div.appendChild(a);\n",
              "      a.click();\n",
              "      div.remove();\n",
              "    }\n",
              "  "
            ],
            "text/plain": [
              "<IPython.core.display.Javascript object>"
            ]
          },
          "metadata": {},
          "output_type": "display_data"
        },
        {
          "data": {
            "application/javascript": [
              "download(\"download_0798bc2c-ce3b-4878-be8e-8d57ab37c86d\", \"ot-optimal.png\", 12672)"
            ],
            "text/plain": [
              "<IPython.core.display.Javascript object>"
            ]
          },
          "metadata": {},
          "output_type": "display_data"
        },
        {
          "data": {
            "image/png": "[encoded data removed]",
            "text/plain": [
              "<Figure size 640x480 with 2 Axes>"
            ]
          },
          "metadata": {},
          "output_type": "display_data"
        }
      ],
      "source": [
        "# ploting the optimal transport map\n",
        "import ot\n",
        "a = np.ones(n)\n",
        "b = np.ones(n)\n",
        "M = ot.dist(x.reshape((n, 1)), y.reshape((n, 1)))\n",
        "lambd = eta\n",
        "Gs = ot.sinkhorn(a, b, M.T, lambd, verbose=True)\n",
        "plt.figure()\n",
        "plt.imshow(Gs)\n",
        "plt.colorbar()\n",
        "name = 'ot-optimal.png'\n",
        "plt.savefig(fname=name,bbox_inches='tight')\n",
        "files.download(name)"
      ]
    },
    {
      "cell_type": "markdown",
      "metadata": {
        "id": "y_u-soWlhrAI"
      },
      "source": [
        "# Learning from data\n",
        "\n",
        "Let $x_1,\\dots, x_n$ are random permuation of $1/n,\\dots, n/n$. We trained a transformer to sort this list. In partiular, we used the specific engineered prompt proposed in the paper. Check Section 6.2 for details on training.  "
      ]
    },
    {
      "cell_type": "code",
      "execution_count": null,
      "metadata": {
        "id": "N5ypN0TAn1bt"
      },
      "outputs": [],
      "source": [
        "from matplotlib import pyplot as plt\n",
        "import torch\n",
        "from torch.autograd import Variable\n",
        "import numpy as np\n",
        "from matplotlib import pyplot as plt\n",
        "\n",
        "dtype =torch.cuda.FloatTensor\n",
        "def generateZ(ss,n, eta=0.01):\n",
        "  x = []\n",
        "  y = []\n",
        "  opt = []\n",
        "  for i in range(ss):\n",
        "    x0 = np.random.permutation(50)[0:n]/float(50)\n",
        "    y0 = np.zeros(n)\n",
        "    for j in range(n):\n",
        "      y0[j] = j/float(n)\n",
        "    x.append(x0)\n",
        "    y.append(y0)\n",
        "    opt.append(torch.tensor(sorted(x0)))\n",
        "  tensor_opt = torch.stack(opt)\n",
        "  y = np.asarray(y)\n",
        "  x = np.asarray(x)\n",
        "  Y = torch.tensor(y)\n",
        "  X = torch.tensor(x)\n",
        "  Zs = []\n",
        "  out = torch.tensor(y0)\n",
        "  for j in range(ss):\n",
        "    x = X[j,:]\n",
        "    y = Y[j,:]\n",
        "    Z = []\n",
        "    Z.append(np.r_[x**2,0])\n",
        "    Z.append(np.r_[x,0])\n",
        "    Z.append(np.r_[y**2,0])\n",
        "    Z.append(np.r_[y,0])\n",
        "    for i in range(3):\n",
        "      Z.append(np.r_[np.ones(n),0])\n",
        "    Z.append(np.r_[np.ones(n),-1/n])\n",
        "    u = np.random.randn(n)\n",
        "    v = np.random.rand(n)\n",
        "    Z.append(np.r_[u,0])\n",
        "    Z.append(np.r_[v,0])\n",
        "    Z.append(np.r_[np.zeros(n),0])\n",
        "    Z = np.asarray(Z)\n",
        "    Z = torch.tensor(Z).type(dtype)\n",
        "    Z = Z.T\n",
        "    Zs.append(Z)\n",
        "  return torch.stack(Zs), tensor_opt.type(dtype)\n",
        "\n",
        "def get_params(mp,optim = True):\n",
        "  params = []\n",
        "  params_np = []\n",
        "  if optim:\n",
        "    Q = np.zeros((mp,mp))\n",
        "    Q[4,2] = -1\n",
        "    Q[1,3] = 2\n",
        "    Q[0,4] = -1\n",
        "    Q[8,5] = 1\n",
        "    Q[5,6] = -1*float(eta)\n",
        "    Q[6,9] = 1\n",
        "    Q = Q/eta\n",
        "  else:\n",
        "    Q = np.random.randn(mp,mp)/np.sqrt(mp)\n",
        "  params_np.append(Q)\n",
        "  Q =  Variable(torch.tensor(Q).type(dtype),requires_grad = True)\n",
        "  params.append(Q)\n",
        "  if optim:\n",
        "    P = np.zeros((mp,mp))\n",
        "    P[7,8] = 1\n",
        "  else:\n",
        "    P = np.random.randn(mp,mp)/np.sqrt(mp)\n",
        "    # P = np.zeros((mp,mp))\n",
        "    # P[7,8] = 1\n",
        "  params_np.append(P)\n",
        "  P = Variable(torch.tensor(P).type(dtype),requires_grad = True)\n",
        "  params.append(P)\n",
        "  if optim:\n",
        "    Q2 = np.zeros((mp,mp))\n",
        "    Q2[4,0] = -1\n",
        "    Q2[3,1] = 2\n",
        "    Q2[2,4] = -1\n",
        "    Q2[9,5] = 1\n",
        "    Q2[5,6] = -1*eta\n",
        "    Q2[6,8] = 1\n",
        "    Q2 = Q2/eta\n",
        "  else:\n",
        "    Q2 = np.random.randn(mp,mp)/np.sqrt(mp)\n",
        "  params_np.append(Q2)\n",
        "  Q2 = Variable(torch.tensor(Q2).type(dtype),requires_grad = True)\n",
        "  params.append(Q2)\n",
        "  if optim:\n",
        "    P2 = np.zeros((mp,mp))\n",
        "    P2[7,9] = 1\n",
        "  else:\n",
        "    P2 = np.random.randn(mp,mp)/np.sqrt(mp)\n",
        "    # P2 = np.zeros((mp,mp))\n",
        "    # P2[7,9] = 1\n",
        "  params_np.append(P2)\n",
        "  P2 = Variable(torch.tensor(P2).type(dtype),requires_grad = True)\n",
        "  params.append(P2)\n",
        "  return params,params_np\n",
        "\n",
        "\n",
        "def atten_tr(Z, Q,P):\n",
        "  A = torch.einsum('nij,jk,nmk->nim',(Z, Q,Z))\n",
        "  M = torch.exp(A)\n",
        "  M = torch.nn.functional.normalize(M,dim=2,p=1)\n",
        "  return  torch.einsum('nij,njk,km->nim',(M,Z,P))\n",
        "\n",
        "def atten_last_tr(Z_tr,params,mp):\n",
        "  A = torch.einsum('nij,jk,nmk->nim',(Z_tr, params[0],Z_tr))\n",
        "  n = Z_tr.size(1)-1\n",
        "  ss = Z_tr.size(0)\n",
        "  B = np.zeros((ss,n+1,n+1))\n",
        "  B[:,:,n] = float('-inf')\n",
        "  M = torch.exp(A+torch.tensor(B).type(dtype))\n",
        "  mp = Z_tr.size(2)\n",
        "  P = np.zeros((mp,mp))\n",
        "  P[1,mp-1] = 1.0\n",
        "  P = torch.tensor(P).type(dtype)\n",
        "  M = torch.nn.functional.normalize(M,dim=2,p=1,eps=0)\n",
        "  return torch.einsum('nij,njk,km->nim',(M,Z_tr,P))\n",
        "\n",
        "def optimize(layers,generateZ,optim,n,mp, lr=0.001,gamma=0.1,T= 10000,ss=500):\n",
        "  nlay = len(layers)-1\n",
        "  param = [] # the list of parameters\n",
        "  for i in range(nlay+1):\n",
        "    param = param + layers[i]#[layers[i][0]]\n",
        "    param = param + layers[i]#[layers[i][2]]\n",
        "  Z_tr,tensor_opt = generateZ(ss,n)\n",
        "  for i in range(T):\n",
        "    Z0 = Z_tr.clone()\n",
        "    for j in range(nlay-1):\n",
        "      A1 = atten_tr(Z0,layers[j][0],layers[j][1])\n",
        "      A2 = atten_tr(Z0,layers[j][2],layers[j][3])\n",
        "      Z0 = Z0 - gamma*A1 - gamma*A2\n",
        "    Z0 = atten_last_tr(Z0,layers[nlay],mp)\n",
        "    loss = torch.mean(torch.square(Z0[:,0:n,mp-1]-tensor_opt))\n",
        "    if i % 50 ==0:\n",
        "      Z_tr,tensor_opt = generateZ(ss,n)\n",
        "    if i % 1000 ==0:\n",
        "      print(i,loss.item())\n",
        "    optim.zero_grad()\n",
        "    loss.backward()\n",
        "    optim.step()\n",
        "  return layers\n",
        "\n",
        "def compute_loss(layers,n,mp,Z,tensor_opt,gamma):\n",
        "  nlay = len(layers)-1\n",
        "  Z0 = Z.clone()\n",
        "  for j in range(nlay-1):\n",
        "    Q0 = layers[j][0]\n",
        "    P0 = layers[j][1]\n",
        "    Q1 = layers[j][2]\n",
        "    P1 = layers[j][3]\n",
        "    A1 = atten_tr(Z0,Q0,P0)\n",
        "    A2 = atten_tr(Z0,Q1,P1)\n",
        "    Z0 = Z0 - gamma*A1 - gamma*A2\n",
        "  Z0 = atten_last_tr(Z0,layers[nlay],mp)\n",
        "  loss = torch.mean(torch.square(Z0[:,0:n,mp-1]-tensor_opt))\n",
        "  return loss"
      ]
    },
    {
      "cell_type": "code",
      "execution_count": null,
      "metadata": {
        "id": "ka21p2SsBiUd"
      },
      "outputs": [],
      "source": [
        "# Unit Test 4 (Passed) for attentions\n",
        "# mp = 11\n",
        "# params, params_np = get_params(mp)\n",
        "# ## atten_last ##\n",
        "# # A = Z @ Q @ Z.T\n",
        "# # B = np.zeros((n+1,n+1))\n",
        "# # B[:,n] = -np.Inf\n",
        "# # # B[n,:] = -np.Inf\n",
        "# # M = np.exp(A+B)\n",
        "# # sums = np.sum(M,axis=1)\n",
        "# # M = (M.T/sums).T\n",
        "# # P = np.zeros((mp,mp))\n",
        "# # P[1,10] = 1\n",
        "# # M @ Z @ P\n",
        "# Z_tr = torch.stack(Zs)\n",
        "# A = torch.einsum('nij,jk,nmk->nim',(Z_tr, params[0],Z_tr))\n",
        "# B = np.zeros((ss,n+1,n+1))\n",
        "# B[:,:,n] = float('-inf')\n",
        "# M = torch.exp(A+torch.tensor(B))\n",
        "# # B[n,:] = -np.Inf\n",
        "# P = np.zeros((mp,mp))\n",
        "# P[1,10] = 1.0\n",
        "# P = torch.tensor(P)\n",
        "# M = torch.nn.functional.normalize(M,dim=2,p=1,eps=0)\n",
        "# out = torch.einsum('nij,njk,km->nim',(M,Z_tr,P))\n",
        "\n",
        "# ind = 5\n",
        "# Z = Zs[ind].detach().numpy()\n",
        "\n",
        "# A = Z @ Q @ Z.T\n",
        "# B = np.zeros((n+1,n+1))\n",
        "# B[:,n] = -np.Inf\n",
        "# # B[n,:] = -np.Inf\n",
        "# M2 = np.exp(A+B)\n",
        "# sums = np.sum(M2,axis=1)\n",
        "# M2 = (M2.T/sums).T\n",
        "# np.linalg.norm(M[ind,:,:].detach().numpy()-M2)\n",
        "# _,out2 = atten_last(Z,params_np[0])\n",
        "# out1 = out[ind,:,:].detach().numpy()\n",
        "# np.linalg.norm(out1-out2)\n"
      ]
    },
    {
      "cell_type": "code",
      "execution_count": null,
      "metadata": {
        "colab": {
          "base_uri": "https://localhost:8080/"
        },
        "id": "YSsUnx4kVbhc",
        "outputId": "18609f21-c51d-486c-83b1-65636e70e8e0"
      },
      "outputs": [
        {
          "name": "stderr",
          "output_type": "stream",
          "text": [
            "/usr/local/lib/python3.10/dist-packages/torch/_compile.py:31: UserWarning: optimizer contains a parameter group with duplicate parameters; in future, this will cause an error; see github.com/pytorch/pytorch/issues/40967 for more information\n",
            "  return disable_fn(*args, **kwargs)\n"
          ]
        },
        {
          "name": "stdout",
          "output_type": "stream",
          "text": [
            "0 0.09759419411420822\n",
            "1000 0.0010869125835597515\n",
            "2000 0.000409723783377558\n",
            "3000 0.0002702677738852799\n",
            "4000 0.00018626921519171447\n",
            "5000 0.0002748506667558104\n",
            "6000 0.00013644633872900158\n",
            "7000 0.00011831961455754936\n",
            "8000 9.303656406700611e-05\n",
            "9000 0.00011440853995736688\n"
          ]
        }
      ],
      "source": [
        "# making attention layers\n",
        "n = 7\n",
        "mp = 11\n",
        "layers = []\n",
        "nlay = 20\n",
        "for i in range(nlay+1):\n",
        "  params, params_np = get_params(mp,optim = False)\n",
        "  layers.append(params)\n",
        "\n",
        "\n",
        "# collecting all the parameters in a list\n",
        "param = [] # the list of parameters\n",
        "for i in range(nlay+1):\n",
        "  param = param + layers[i]#[layers[i][0]]\n",
        "  param = param + layers[i]#[layers[i][2]]\n",
        "# optimization method\n",
        "lr = 0.001\n",
        "optim = torch.optim.Adam(param,lr=lr )\n",
        "\n",
        "T = 10000\n",
        "gamma = 0.05\n",
        "ss  = 500\n",
        "\n",
        "layers = optimize(layers,generateZ,optim,n,mp,lr,gamma,T,ss)\n"
      ]
    },
    {
      "cell_type": "code",
      "execution_count": null,
      "metadata": {
        "colab": {
          "base_uri": "https://localhost:8080/",
          "height": 1000
        },
        "id": "xw3Zu64gpKGO",
        "outputId": "a5328695-f199-417f-b5fc-13da474423e4"
      },
      "outputs": [
        {
          "data": {
            "application/javascript": [
              "\n",
              "    async function download(id, filename, size) {\n",
              "      if (!google.colab.kernel.accessAllowed) {\n",
              "        return;\n",
              "      }\n",
              "      const div = document.createElement('div');\n",
              "      const label = document.createElement('label');\n",
              "      label.textContent = `Downloading \"${filename}\": `;\n",
              "      div.appendChild(label);\n",
              "      const progress = document.createElement('progress');\n",
              "      progress.max = size;\n",
              "      div.appendChild(progress);\n",
              "      document.body.appendChild(div);\n",
              "\n",
              "      const buffers = [];\n",
              "      let downloaded = 0;\n",
              "\n",
              "      const channel = await google.colab.kernel.comms.open(id);\n",
              "      // Send a message to notify the kernel that we're ready.\n",
              "      channel.send({})\n",
              "\n",
              "      for await (const message of channel.messages) {\n",
              "        // Send a message to notify the kernel that we're ready.\n",
              "        channel.send({})\n",
              "        if (message.buffers) {\n",
              "          for (const buffer of message.buffers) {\n",
              "            buffers.push(buffer);\n",
              "            downloaded += buffer.byteLength;\n",
              "            progress.value = downloaded;\n",
              "          }\n",
              "        }\n",
              "      }\n",
              "      const blob = new Blob(buffers, {type: 'application/binary'});\n",
              "      const a = document.createElement('a');\n",
              "      a.href = window.URL.createObjectURL(blob);\n",
              "      a.download = filename;\n",
              "      div.appendChild(a);\n",
              "      a.click();\n",
              "      div.remove();\n",
              "    }\n",
              "  "
            ],
            "text/plain": [
              "<IPython.core.display.Javascript object>"
            ]
          },
          "metadata": {},
          "output_type": "display_data"
        },
        {
          "data": {
            "application/javascript": [
              "download(\"download_54aeaea7-9c1e-44cd-8c54-67f50991618e\", \"att0.pdf\", 9169)"
            ],
            "text/plain": [
              "<IPython.core.display.Javascript object>"
            ]
          },
          "metadata": {},
          "output_type": "display_data"
        },
        {
          "data": {
            "application/javascript": [
              "\n",
              "    async function download(id, filename, size) {\n",
              "      if (!google.colab.kernel.accessAllowed) {\n",
              "        return;\n",
              "      }\n",
              "      const div = document.createElement('div');\n",
              "      const label = document.createElement('label');\n",
              "      label.textContent = `Downloading \"${filename}\": `;\n",
              "      div.appendChild(label);\n",
              "      const progress = document.createElement('progress');\n",
              "      progress.max = size;\n",
              "      div.appendChild(progress);\n",
              "      document.body.appendChild(div);\n",
              "\n",
              "      const buffers = [];\n",
              "      let downloaded = 0;\n",
              "\n",
              "      const channel = await google.colab.kernel.comms.open(id);\n",
              "      // Send a message to notify the kernel that we're ready.\n",
              "      channel.send({})\n",
              "\n",
              "      for await (const message of channel.messages) {\n",
              "        // Send a message to notify the kernel that we're ready.\n",
              "        channel.send({})\n",
              "        if (message.buffers) {\n",
              "          for (const buffer of message.buffers) {\n",
              "            buffers.push(buffer);\n",
              "            downloaded += buffer.byteLength;\n",
              "            progress.value = downloaded;\n",
              "          }\n",
              "        }\n",
              "      }\n",
              "      const blob = new Blob(buffers, {type: 'application/binary'});\n",
              "      const a = document.createElement('a');\n",
              "      a.href = window.URL.createObjectURL(blob);\n",
              "      a.download = filename;\n",
              "      div.appendChild(a);\n",
              "      a.click();\n",
              "      div.remove();\n",
              "    }\n",
              "  "
            ],
            "text/plain": [
              "<IPython.core.display.Javascript object>"
            ]
          },
          "metadata": {},
          "output_type": "display_data"
        },
        {
          "data": {
            "application/javascript": [
              "download(\"download_c589e84f-674d-43fd-981c-af2b62685ef7\", \"att5.pdf\", 9178)"
            ],
            "text/plain": [
              "<IPython.core.display.Javascript object>"
            ]
          },
          "metadata": {},
          "output_type": "display_data"
        },
        {
          "data": {
            "application/javascript": [
              "\n",
              "    async function download(id, filename, size) {\n",
              "      if (!google.colab.kernel.accessAllowed) {\n",
              "        return;\n",
              "      }\n",
              "      const div = document.createElement('div');\n",
              "      const label = document.createElement('label');\n",
              "      label.textContent = `Downloading \"${filename}\": `;\n",
              "      div.appendChild(label);\n",
              "      const progress = document.createElement('progress');\n",
              "      progress.max = size;\n",
              "      div.appendChild(progress);\n",
              "      document.body.appendChild(div);\n",
              "\n",
              "      const buffers = [];\n",
              "      let downloaded = 0;\n",
              "\n",
              "      const channel = await google.colab.kernel.comms.open(id);\n",
              "      // Send a message to notify the kernel that we're ready.\n",
              "      channel.send({})\n",
              "\n",
              "      for await (const message of channel.messages) {\n",
              "        // Send a message to notify the kernel that we're ready.\n",
              "        channel.send({})\n",
              "        if (message.buffers) {\n",
              "          for (const buffer of message.buffers) {\n",
              "            buffers.push(buffer);\n",
              "            downloaded += buffer.byteLength;\n",
              "            progress.value = downloaded;\n",
              "          }\n",
              "        }\n",
              "      }\n",
              "      const blob = new Blob(buffers, {type: 'application/binary'});\n",
              "      const a = document.createElement('a');\n",
              "      a.href = window.URL.createObjectURL(blob);\n",
              "      a.download = filename;\n",
              "      div.appendChild(a);\n",
              "      a.click();\n",
              "      div.remove();\n",
              "    }\n",
              "  "
            ],
            "text/plain": [
              "<IPython.core.display.Javascript object>"
            ]
          },
          "metadata": {},
          "output_type": "display_data"
        },
        {
          "data": {
            "application/javascript": [
              "download(\"download_e8b56e8a-a9d5-4338-8938-897f9fbf4936\", \"att10.pdf\", 9140)"
            ],
            "text/plain": [
              "<IPython.core.display.Javascript object>"
            ]
          },
          "metadata": {},
          "output_type": "display_data"
        },
        {
          "data": {
            "application/javascript": [
              "\n",
              "    async function download(id, filename, size) {\n",
              "      if (!google.colab.kernel.accessAllowed) {\n",
              "        return;\n",
              "      }\n",
              "      const div = document.createElement('div');\n",
              "      const label = document.createElement('label');\n",
              "      label.textContent = `Downloading \"${filename}\": `;\n",
              "      div.appendChild(label);\n",
              "      const progress = document.createElement('progress');\n",
              "      progress.max = size;\n",
              "      div.appendChild(progress);\n",
              "      document.body.appendChild(div);\n",
              "\n",
              "      const buffers = [];\n",
              "      let downloaded = 0;\n",
              "\n",
              "      const channel = await google.colab.kernel.comms.open(id);\n",
              "      // Send a message to notify the kernel that we're ready.\n",
              "      channel.send({})\n",
              "\n",
              "      for await (const message of channel.messages) {\n",
              "        // Send a message to notify the kernel that we're ready.\n",
              "        channel.send({})\n",
              "        if (message.buffers) {\n",
              "          for (const buffer of message.buffers) {\n",
              "            buffers.push(buffer);\n",
              "            downloaded += buffer.byteLength;\n",
              "            progress.value = downloaded;\n",
              "          }\n",
              "        }\n",
              "      }\n",
              "      const blob = new Blob(buffers, {type: 'application/binary'});\n",
              "      const a = document.createElement('a');\n",
              "      a.href = window.URL.createObjectURL(blob);\n",
              "      a.download = filename;\n",
              "      div.appendChild(a);\n",
              "      a.click();\n",
              "      div.remove();\n",
              "    }\n",
              "  "
            ],
            "text/plain": [
              "<IPython.core.display.Javascript object>"
            ]
          },
          "metadata": {},
          "output_type": "display_data"
        },
        {
          "data": {
            "application/javascript": [
              "download(\"download_442dd005-ffe9-4454-a898-9352e3eadd22\", \"att15.pdf\", 9327)"
            ],
            "text/plain": [
              "<IPython.core.display.Javascript object>"
            ]
          },
          "metadata": {},
          "output_type": "display_data"
        },
        {
          "data": {
            "application/javascript": [
              "\n",
              "    async function download(id, filename, size) {\n",
              "      if (!google.colab.kernel.accessAllowed) {\n",
              "        return;\n",
              "      }\n",
              "      const div = document.createElement('div');\n",
              "      const label = document.createElement('label');\n",
              "      label.textContent = `Downloading \"${filename}\": `;\n",
              "      div.appendChild(label);\n",
              "      const progress = document.createElement('progress');\n",
              "      progress.max = size;\n",
              "      div.appendChild(progress);\n",
              "      document.body.appendChild(div);\n",
              "\n",
              "      const buffers = [];\n",
              "      let downloaded = 0;\n",
              "\n",
              "      const channel = await google.colab.kernel.comms.open(id);\n",
              "      // Send a message to notify the kernel that we're ready.\n",
              "      channel.send({})\n",
              "\n",
              "      for await (const message of channel.messages) {\n",
              "        // Send a message to notify the kernel that we're ready.\n",
              "        channel.send({})\n",
              "        if (message.buffers) {\n",
              "          for (const buffer of message.buffers) {\n",
              "            buffers.push(buffer);\n",
              "            downloaded += buffer.byteLength;\n",
              "            progress.value = downloaded;\n",
              "          }\n",
              "        }\n",
              "      }\n",
              "      const blob = new Blob(buffers, {type: 'application/binary'});\n",
              "      const a = document.createElement('a');\n",
              "      a.href = window.URL.createObjectURL(blob);\n",
              "      a.download = filename;\n",
              "      div.appendChild(a);\n",
              "      a.click();\n",
              "      div.remove();\n",
              "    }\n",
              "  "
            ],
            "text/plain": [
              "<IPython.core.display.Javascript object>"
            ]
          },
          "metadata": {},
          "output_type": "display_data"
        },
        {
          "data": {
            "application/javascript": [
              "download(\"download_67cf026a-0b64-42ff-b775-647a55b129cc\", \"att_last.pdf\", 9998)"
            ],
            "text/plain": [
              "<IPython.core.display.Javascript object>"
            ]
          },
          "metadata": {},
          "output_type": "display_data"
        },
        {
          "data": {
            "application/javascript": [
              "\n",
              "    async function download(id, filename, size) {\n",
              "      if (!google.colab.kernel.accessAllowed) {\n",
              "        return;\n",
              "      }\n",
              "      const div = document.createElement('div');\n",
              "      const label = document.createElement('label');\n",
              "      label.textContent = `Downloading \"${filename}\": `;\n",
              "      div.appendChild(label);\n",
              "      const progress = document.createElement('progress');\n",
              "      progress.max = size;\n",
              "      div.appendChild(progress);\n",
              "      document.body.appendChild(div);\n",
              "\n",
              "      const buffers = [];\n",
              "      let downloaded = 0;\n",
              "\n",
              "      const channel = await google.colab.kernel.comms.open(id);\n",
              "      // Send a message to notify the kernel that we're ready.\n",
              "      channel.send({})\n",
              "\n",
              "      for await (const message of channel.messages) {\n",
              "        // Send a message to notify the kernel that we're ready.\n",
              "        channel.send({})\n",
              "        if (message.buffers) {\n",
              "          for (const buffer of message.buffers) {\n",
              "            buffers.push(buffer);\n",
              "            downloaded += buffer.byteLength;\n",
              "            progress.value = downloaded;\n",
              "          }\n",
              "        }\n",
              "      }\n",
              "      const blob = new Blob(buffers, {type: 'application/binary'});\n",
              "      const a = document.createElement('a');\n",
              "      a.href = window.URL.createObjectURL(blob);\n",
              "      a.download = filename;\n",
              "      div.appendChild(a);\n",
              "      a.click();\n",
              "      div.remove();\n",
              "    }\n",
              "  "
            ],
            "text/plain": [
              "<IPython.core.display.Javascript object>"
            ]
          },
          "metadata": {},
          "output_type": "display_data"
        },
        {
          "data": {
            "application/javascript": [
              "download(\"download_876ca0e3-23e6-4bd0-8f24-81cd3158c56f\", \"ground.pdf\", 8884)"
            ],
            "text/plain": [
              "<IPython.core.display.Javascript object>"
            ]
          },
          "metadata": {},
          "output_type": "display_data"
        },
        {
          "data": {
            "image/png": "[encoded data removed]",
            "text/plain": [
              "<Figure size 640x480 with 2 Axes>"
            ]
          },
          "metadata": {},
          "output_type": "display_data"
        },
        {
          "data": {
            "image/png": "[encoded data removed]",
            "text/plain": [
              "<Figure size 640x480 with 2 Axes>"
            ]
          },
          "metadata": {},
          "output_type": "display_data"
        },
        {
          "data": {
            "image/png": "[encoded data removed]",
            "text/plain": [
              "<Figure size 640x480 with 2 Axes>"
            ]
          },
          "metadata": {},
          "output_type": "display_data"
        },
        {
          "data": {
            "image/png": "[encoded data removed]",
            "text/plain": [
              "<Figure size 640x480 with 2 Axes>"
            ]
          },
          "metadata": {},
          "output_type": "display_data"
        },
        {
          "data": {
            "image/png": "[encoded data removed]",
            "text/plain": [
              "<Figure size 640x480 with 2 Axes>"
            ]
          },
          "metadata": {},
          "output_type": "display_data"
        },
        {
          "data": {
            "image/png": "[encoded data removed]",
            "text/plain": [
              "<Figure size 640x480 with 2 Axes>"
            ]
          },
          "metadata": {},
          "output_type": "display_data"
        }
      ],
      "source": [
        "from google.colab import files\n",
        "n = 7\n",
        "Z_tr,tensor_opt = generateZ(1,n)\n",
        "def atten_pattern_tr(Z_tr,params,ind=0):\n",
        "  A = torch.einsum('nij,jk,nmk->nim',(Z_tr, params[ind],Z_tr))\n",
        "  n = Z_tr.size(1)-1\n",
        "  ss = Z_tr.size(0)\n",
        "  B = np.zeros((ss,n+1,n+1))\n",
        "  B[:,:,n] = float('-inf')\n",
        "  M = torch.exp(A+torch.tensor(B).type(dtype))\n",
        "  mp = Z_tr.size(2)\n",
        "  P = np.zeros((mp,mp))\n",
        "  P[1,10] = 1.0\n",
        "  P = torch.tensor(P)\n",
        "  M = torch.nn.functional.normalize(M,dim=2,p=1,eps=0)\n",
        "  return M\n",
        "\n",
        "Z0 = Z_tr.clone()\n",
        "for j in range(nlay-1):\n",
        "  ptr = atten_pattern_tr(Z0,layers[nlay],ind=0)[0,0:n,0:n]\n",
        "  Q0 = layers[j][0]\n",
        "  P0 = layers[j][1]\n",
        "  Q1 = layers[j][2]\n",
        "  P1 = layers[j][3]\n",
        "  A1 = atten_tr(Z0,Q0,P0)\n",
        "  A2 = atten_tr(Z0,Q1,P1)\n",
        "  Z0 = Z0 - gamma*A1 - gamma*A2\n",
        "  if j % 5 == 0:\n",
        "    plt.figure()\n",
        "    plt.imshow(ptr.cpu().detach().numpy())\n",
        "    plt.colorbar()\n",
        "    name = 'att%d.pdf' % j\n",
        "    plt.savefig(name,format='pdf',bbox_inches='tight')\n",
        "    files.download(name)\n",
        "ptr = atten_pattern_tr(Z0,layers[nlay],ind=0)[0,0:n,0:n]\n",
        "plt.figure()\n",
        "plt.imshow(ptr.cpu().detach().numpy())\n",
        "plt.colorbar()\n",
        "name = 'att_last.pdf'\n",
        "plt.savefig(name,format='pdf',bbox_inches='tight')\n",
        "files.download(name)\n",
        "\n",
        "x0 = Z_tr[0,0:n,1].cpu().detach().numpy()\n",
        "inds = np.argsort(x0)\n",
        "P = np.zeros((n,n))\n",
        "for i in range(n):\n",
        "  P[i,inds[i]] = 1\n",
        "plt.figure()\n",
        "plt.imshow(P)\n",
        "plt.colorbar()\n",
        "name = 'ground.pdf'\n",
        "plt.savefig(name,format='pdf',bbox_inches='tight')\n",
        "files.download(name)"
      ]
    },
    {
      "cell_type": "code",
      "execution_count": null,
      "metadata": {
        "colab": {
          "base_uri": "https://localhost:8080/",
          "height": 787
        },
        "id": "UseRBe0BqvEU",
        "outputId": "1058898f-efef-467e-f5e6-d91e3ad5e8fd"
      },
      "outputs": [
        {
          "name": "stdout",
          "output_type": "stream",
          "text": [
            "It.  |Err         \n",
            "-------------------\n",
            "    0|4.060417e+00|\n",
            "   10|5.032227e-01|\n",
            "   20|1.199879e-01|\n",
            "   30|3.629880e-02|\n",
            "   40|1.129609e-02|\n",
            "   50|3.523403e-03|\n",
            "   60|1.099066e-03|\n",
            "   70|3.428204e-04|\n",
            "   80|1.069303e-04|\n",
            "   90|3.335280e-05|\n",
            "  100|1.040310e-05|\n",
            "  110|3.244836e-06|\n",
            "  120|1.012099e-06|\n",
            "  130|3.156841e-07|\n",
            "  140|9.846519e-08|\n",
            "  150|3.071233e-08|\n",
            "  160|9.579496e-09|\n",
            "  170|2.987945e-09|\n"
          ]
        },
        {
          "data": {
            "application/javascript": [
              "\n",
              "    async function download(id, filename, size) {\n",
              "      if (!google.colab.kernel.accessAllowed) {\n",
              "        return;\n",
              "      }\n",
              "      const div = document.createElement('div');\n",
              "      const label = document.createElement('label');\n",
              "      label.textContent = `Downloading \"${filename}\": `;\n",
              "      div.appendChild(label);\n",
              "      const progress = document.createElement('progress');\n",
              "      progress.max = size;\n",
              "      div.appendChild(progress);\n",
              "      document.body.appendChild(div);\n",
              "\n",
              "      const buffers = [];\n",
              "      let downloaded = 0;\n",
              "\n",
              "      const channel = await google.colab.kernel.comms.open(id);\n",
              "      // Send a message to notify the kernel that we're ready.\n",
              "      channel.send({})\n",
              "\n",
              "      for await (const message of channel.messages) {\n",
              "        // Send a message to notify the kernel that we're ready.\n",
              "        channel.send({})\n",
              "        if (message.buffers) {\n",
              "          for (const buffer of message.buffers) {\n",
              "            buffers.push(buffer);\n",
              "            downloaded += buffer.byteLength;\n",
              "            progress.value = downloaded;\n",
              "          }\n",
              "        }\n",
              "      }\n",
              "      const blob = new Blob(buffers, {type: 'application/binary'});\n",
              "      const a = document.createElement('a');\n",
              "      a.href = window.URL.createObjectURL(blob);\n",
              "      a.download = filename;\n",
              "      div.appendChild(a);\n",
              "      a.click();\n",
              "      div.remove();\n",
              "    }\n",
              "  "
            ],
            "text/plain": [
              "<IPython.core.display.Javascript object>"
            ]
          },
          "metadata": {},
          "output_type": "display_data"
        },
        {
          "data": {
            "application/javascript": [
              "download(\"download_c3f7db0d-a269-4388-9845-dcb42eae4747\", \"ot-optimal.png\", 11602)"
            ],
            "text/plain": [
              "<IPython.core.display.Javascript object>"
            ]
          },
          "metadata": {},
          "output_type": "display_data"
        },
        {
          "data": {
            "image/png": "[encoded data removed]",
            "text/plain": [
              "<Figure size 640x480 with 2 Axes>"
            ]
          },
          "metadata": {},
          "output_type": "display_data"
        }
      ],
      "source": [
        "# ploting the optimal transport map\n",
        "import ot\n",
        "a = np.ones(n)\n",
        "b = np.ones(n)\n",
        "x = Z0[0,0:7,1].cpu().detach().numpy()\n",
        "y = Z0[0,0:7,3].cpu().detach().numpy()\n",
        "M = ot.dist(x.reshape((n, 1)), y.reshape((n, 1)))\n",
        "lambd = 0.1\n",
        "Gs = ot.sinkhorn(a, b, M.T, lambd, verbose=True)\n",
        "plt.figure()\n",
        "plt.imshow(Gs)\n",
        "plt.colorbar()\n",
        "name = 'ot-optimal.png'\n",
        "plt.savefig(fname=name,bbox_inches='tight')\n",
        "files.download(name)"
      ]
    },
    {
      "cell_type": "code",
      "execution_count": null,
      "metadata": {
        "colab": {
          "base_uri": "https://localhost:8080/",
          "height": 216
        },
        "id": "6S30gYOSjBZE",
        "outputId": "1d7d3916-6e63-42a3-fc15-1cdf824c03db"
      },
      "outputs": [
        {
          "ename": "NameError",
          "evalue": "name 'generateZ' is not defined",
          "output_type": "error",
          "traceback": [
            "\u001b[0;31m---------------------------------------------------------------------------\u001b[0m",
            "\u001b[0;31mNameError\u001b[0m                                 Traceback (most recent call last)",
            "\u001b[0;32m<ipython-input-14-a2393eb92c30>\u001b[0m in \u001b[0;36m<cell line: 3>\u001b[0;34m()\u001b[0m\n\u001b[1;32m      1\u001b[0m \u001b[0;32mfrom\u001b[0m \u001b[0mgoogle\u001b[0m\u001b[0;34m.\u001b[0m\u001b[0mcolab\u001b[0m \u001b[0;32mimport\u001b[0m \u001b[0mfiles\u001b[0m\u001b[0;34m\u001b[0m\u001b[0;34m\u001b[0m\u001b[0m\n\u001b[1;32m      2\u001b[0m \u001b[0mn\u001b[0m \u001b[0;34m=\u001b[0m \u001b[0;36m9\u001b[0m\u001b[0;34m\u001b[0m\u001b[0;34m\u001b[0m\u001b[0m\n\u001b[0;32m----> 3\u001b[0;31m \u001b[0mZ_tr\u001b[0m\u001b[0;34m,\u001b[0m\u001b[0mtensor_opt\u001b[0m \u001b[0;34m=\u001b[0m \u001b[0mgenerateZ\u001b[0m\u001b[0;34m(\u001b[0m\u001b[0;36m1\u001b[0m\u001b[0;34m,\u001b[0m\u001b[0mn\u001b[0m\u001b[0;34m)\u001b[0m\u001b[0;34m\u001b[0m\u001b[0;34m\u001b[0m\u001b[0m\n\u001b[0m\u001b[1;32m      4\u001b[0m \u001b[0;32mdef\u001b[0m \u001b[0matten_pattern_tr\u001b[0m\u001b[0;34m(\u001b[0m\u001b[0mZ_tr\u001b[0m\u001b[0;34m,\u001b[0m\u001b[0mparams\u001b[0m\u001b[0;34m,\u001b[0m\u001b[0mind\u001b[0m\u001b[0;34m=\u001b[0m\u001b[0;36m0\u001b[0m\u001b[0;34m)\u001b[0m\u001b[0;34m:\u001b[0m\u001b[0;34m\u001b[0m\u001b[0;34m\u001b[0m\u001b[0m\n\u001b[1;32m      5\u001b[0m   \u001b[0mA\u001b[0m \u001b[0;34m=\u001b[0m \u001b[0mtorch\u001b[0m\u001b[0;34m.\u001b[0m\u001b[0meinsum\u001b[0m\u001b[0;34m(\u001b[0m\u001b[0;34m'nij,jk,nmk->nim'\u001b[0m\u001b[0;34m,\u001b[0m\u001b[0;34m(\u001b[0m\u001b[0mZ_tr\u001b[0m\u001b[0;34m,\u001b[0m \u001b[0mparams\u001b[0m\u001b[0;34m[\u001b[0m\u001b[0mind\u001b[0m\u001b[0;34m]\u001b[0m\u001b[0;34m,\u001b[0m\u001b[0mZ_tr\u001b[0m\u001b[0;34m)\u001b[0m\u001b[0;34m)\u001b[0m\u001b[0;34m\u001b[0m\u001b[0;34m\u001b[0m\u001b[0m\n",
            "\u001b[0;31mNameError\u001b[0m: name 'generateZ' is not defined"
          ]
        }
      ],
      "source": [
        "from google.colab import files\n",
        "n = 9\n",
        "Z_tr,tensor_opt = generateZ(1,n)\n",
        "def atten_pattern_tr(Z_tr,params,ind=0):\n",
        "  A = torch.einsum('nij,jk,nmk->nim',(Z_tr, params[ind],Z_tr))\n",
        "  n = Z_tr.size(1)-1\n",
        "  ss = Z_tr.size(0)\n",
        "  B = np.zeros((ss,n+1,n+1))\n",
        "  B[:,:,n] = float('-inf')\n",
        "  M = torch.exp(A+torch.tensor(B).type(dtype))\n",
        "  mp = Z_tr.size(2)\n",
        "  P = np.zeros((mp,mp))\n",
        "  P[1,10] = 1.0\n",
        "  P = torch.tensor(P)\n",
        "  M = torch.nn.functional.normalize(M,dim=2,p=1,eps=0)\n",
        "  return M\n",
        "\n",
        "Z0 = Z_tr.clone()\n",
        "for j in range(nlay-1):\n",
        "  ptr = atten_pattern_tr(Z0,layers[nlay],ind=0)[0,0:n,0:n]\n",
        "  Q0 = layers[j][0]\n",
        "  P0 = layers[j][1]\n",
        "  Q1 = layers[j][2]\n",
        "  P1 = layers[j][3]\n",
        "  A1 = atten_tr(Z0,Q0,P0)\n",
        "  A2 = atten_tr(Z0,Q1,P1)\n",
        "  Z0 = Z0 - gamma*A1 - gamma*A2\n",
        "  if j % 5 == 0:\n",
        "    plt.figure()\n",
        "    plt.imshow(ptr.cpu().detach().numpy())\n",
        "    plt.colorbar()\n",
        "    name = 'att%d_9.pdf' % j\n",
        "    plt.savefig(name,format='pdf',bbox_inches='tight')\n",
        "    files.download(name)\n",
        "ptr = atten_pattern_tr(Z0,layers[nlay],ind=0)[0,0:n,0:n]\n",
        "  # if j % 1 == 0:\n",
        "plt.figure()\n",
        "plt.imshow(ptr.cpu().detach().numpy())\n",
        "plt.colorbar()\n",
        "name = 'att_last_9.pdf'\n",
        "plt.savefig(name,format='pdf',bbox_inches='tight')\n",
        "files.download(name)\n",
        "\n",
        "x0 = Z_tr[0,0:n,1].cpu().detach().numpy()\n",
        "inds = np.argsort(x0)\n",
        "P = np.zeros((n,n))\n",
        "for i in range(n):\n",
        "  P[i,inds[i]] = 1\n",
        "plt.figure()\n",
        "plt.imshow(P)\n",
        "plt.colorbar()\n",
        "name = 'ground9.png'\n",
        "plt.savefig(name,format='png',bbox_inches='tight')\n",
        "files.download(name)"
      ]
    },
    {
      "cell_type": "code",
      "execution_count": null,
      "metadata": {
        "colab": {
          "base_uri": "https://localhost:8080/",
          "height": 435
        },
        "id": "djhOfn8VzdOy",
        "outputId": "670f9a4c-55d4-48a8-e0c2-18b44603afb8"
      },
      "outputs": [
        {
          "data": {
            "application/javascript": [
              "\n",
              "    async function download(id, filename, size) {\n",
              "      if (!google.colab.kernel.accessAllowed) {\n",
              "        return;\n",
              "      }\n",
              "      const div = document.createElement('div');\n",
              "      const label = document.createElement('label');\n",
              "      label.textContent = `Downloading \"${filename}\": `;\n",
              "      div.appendChild(label);\n",
              "      const progress = document.createElement('progress');\n",
              "      progress.max = size;\n",
              "      div.appendChild(progress);\n",
              "      document.body.appendChild(div);\n",
              "\n",
              "      const buffers = [];\n",
              "      let downloaded = 0;\n",
              "\n",
              "      const channel = await google.colab.kernel.comms.open(id);\n",
              "      // Send a message to notify the kernel that we're ready.\n",
              "      channel.send({})\n",
              "\n",
              "      for await (const message of channel.messages) {\n",
              "        // Send a message to notify the kernel that we're ready.\n",
              "        channel.send({})\n",
              "        if (message.buffers) {\n",
              "          for (const buffer of message.buffers) {\n",
              "            buffers.push(buffer);\n",
              "            downloaded += buffer.byteLength;\n",
              "            progress.value = downloaded;\n",
              "          }\n",
              "        }\n",
              "      }\n",
              "      const blob = new Blob(buffers, {type: 'application/binary'});\n",
              "      const a = document.createElement('a');\n",
              "      a.href = window.URL.createObjectURL(blob);\n",
              "      a.download = filename;\n",
              "      div.appendChild(a);\n",
              "      a.click();\n",
              "      div.remove();\n",
              "    }\n",
              "  "
            ],
            "text/plain": [
              "<IPython.core.display.Javascript object>"
            ]
          },
          "metadata": {},
          "output_type": "display_data"
        },
        {
          "data": {
            "application/javascript": [
              "download(\"download_b88ac344-276d-4f7b-9f74-e375b28183e7\", \"ground8.png\", 10666)"
            ],
            "text/plain": [
              "<IPython.core.display.Javascript object>"
            ]
          },
          "metadata": {},
          "output_type": "display_data"
        },
        {
          "data": {
            "image/png": "[encoded data removed]",
            "text/plain": [
              "<Figure size 640x480 with 2 Axes>"
            ]
          },
          "metadata": {},
          "output_type": "display_data"
        }
      ],
      "source": [
        "x0 = Z_tr[0,0:n,1].cpu().detach().numpy()\n",
        "inds = np.argsort(x0)\n",
        "P = np.zeros((n,n))\n",
        "for i in range(n):\n",
        "  P[i,inds[i]] = 1\n",
        "plt.figure()\n",
        "plt.imshow(P)\n",
        "plt.colorbar()\n",
        "name = 'ground8.png'\n",
        "plt.savefig(name,format='png',bbox_inches='tight')\n",
        "files.download(name)"
      ]
    },
    {
      "cell_type": "code",
      "execution_count": null,
      "metadata": {
        "colab": {
          "base_uri": "https://localhost:8080/",
          "height": 435
        },
        "id": "69X00iofzwof",
        "outputId": "5e105d79-666c-429d-87f5-9e78695a8605"
      },
      "outputs": [
        {
          "data": {
            "application/javascript": [
              "\n",
              "    async function download(id, filename, size) {\n",
              "      if (!google.colab.kernel.accessAllowed) {\n",
              "        return;\n",
              "      }\n",
              "      const div = document.createElement('div');\n",
              "      const label = document.createElement('label');\n",
              "      label.textContent = `Downloading \"${filename}\": `;\n",
              "      div.appendChild(label);\n",
              "      const progress = document.createElement('progress');\n",
              "      progress.max = size;\n",
              "      div.appendChild(progress);\n",
              "      document.body.appendChild(div);\n",
              "\n",
              "      const buffers = [];\n",
              "      let downloaded = 0;\n",
              "\n",
              "      const channel = await google.colab.kernel.comms.open(id);\n",
              "      // Send a message to notify the kernel that we're ready.\n",
              "      channel.send({})\n",
              "\n",
              "      for await (const message of channel.messages) {\n",
              "        // Send a message to notify the kernel that we're ready.\n",
              "        channel.send({})\n",
              "        if (message.buffers) {\n",
              "          for (const buffer of message.buffers) {\n",
              "            buffers.push(buffer);\n",
              "            downloaded += buffer.byteLength;\n",
              "            progress.value = downloaded;\n",
              "          }\n",
              "        }\n",
              "      }\n",
              "      const blob = new Blob(buffers, {type: 'application/binary'});\n",
              "      const a = document.createElement('a');\n",
              "      a.href = window.URL.createObjectURL(blob);\n",
              "      a.download = filename;\n",
              "      div.appendChild(a);\n",
              "      a.click();\n",
              "      div.remove();\n",
              "    }\n",
              "  "
            ],
            "text/plain": [
              "<IPython.core.display.Javascript object>"
            ]
          },
          "metadata": {},
          "output_type": "display_data"
        },
        {
          "data": {
            "application/javascript": [
              "download(\"download_0f4840fe-c2a1-4a6d-b69d-b2cb5eb87185\", \"ground.png\", 10262)"
            ],
            "text/plain": [
              "<IPython.core.display.Javascript object>"
            ]
          },
          "metadata": {},
          "output_type": "display_data"
        },
        {
          "data": {
            "image/png": "[encoded data removed]",
            "text/plain": [
              "<Figure size 640x480 with 2 Axes>"
            ]
          },
          "metadata": {},
          "output_type": "display_data"
        }
      ],
      "source": [
        "x0 = Z_tr[0,0:n,1].cpu().detach().numpy()\n",
        "inds = np.argsort(x0)\n",
        "P = np.zeros((n,n))\n",
        "for i in range(n):\n",
        "  P[i,inds[i]] = 1\n",
        "plt.close()\n",
        "plt.figure()\n",
        "plt.imshow(P)\n",
        "plt.colorbar()\n",
        "\n",
        "name = 'ground.png'\n",
        "plt.savefig(name,format='png',bbox_inches='tight')\n",
        "files.download(name)"
      ]
    },
    {
      "cell_type": "markdown",
      "metadata": {
        "id": "VpbluTKx9ix6"
      },
      "source": []
    },
    {
      "cell_type": "code",
      "execution_count": null,
      "metadata": {
        "colab": {
          "base_uri": "https://localhost:8080/"
        },
        "id": "BXOfAPvV9jBf",
        "outputId": "b787ea74-a68e-4884-a9df-1363de43959f"
      },
      "outputs": [
        {
          "data": {
            "text/plain": [
              "array([0.0064    , 0.3136    , 0.16000001, 0.0784    , 0.6083999 ,\n",
              "       0.        , 0.0324    ], dtype=float32)"
            ]
          },
          "execution_count": 47,
          "metadata": {},
          "output_type": "execute_result"
        }
      ],
      "source": [
        "x0"
      ]
    },
    {
      "cell_type": "markdown",
      "metadata": {
        "id": "-ANc6e1636_4"
      },
      "source": [
        "# Prompt Engineering"
      ]
    },
    {
      "cell_type": "code",
      "execution_count": null,
      "metadata": {
        "id": "gWmI0SWlbU-u"
      },
      "outputs": [],
      "source": [
        "def get_truncated_Z(ss,n, eta=0.01):\n",
        "  x = []\n",
        "  y = []\n",
        "  opt = []\n",
        "  for i in range(ss):\n",
        "    x0 = np.random.permutation(50)[0:n]/float(50)\n",
        "    y0 = np.zeros(n)\n",
        "    for j in range(n):\n",
        "      y0[j] = j/float(n)\n",
        "    x.append(x0)\n",
        "    y.append(y0)\n",
        "    opt.append(torch.tensor(sorted(x0)))\n",
        "  tensor_opt = torch.stack(opt)\n",
        "  y = np.asarray(y)\n",
        "  x = np.asarray(x)\n",
        "  Y = torch.tensor(y)\n",
        "  X = torch.tensor(x)\n",
        "  Zs = []\n",
        "  out = torch.tensor(y0)\n",
        "  for j in range(ss):\n",
        "    x = X[j,:]\n",
        "    y = Y[j,:]\n",
        "    Z = []\n",
        "    Z.append(x)\n",
        "    Z.append(y)\n",
        "    Z.append(np.zeros(n))\n",
        "    Z = np.asarray(Z)\n",
        "    Z = torch.tensor(Z).type(dtype)\n",
        "    Z = Z.T\n",
        "    Zs.append(Z)\n",
        "  return torch.stack(Zs), tensor_opt.type(dtype)\n"
      ]
    },
    {
      "cell_type": "code",
      "execution_count": null,
      "metadata": {
        "colab": {
          "base_uri": "https://localhost:8080/"
        },
        "id": "C5QJQGgj4X-K",
        "outputId": "ae325f9c-1018-49e3-dcba-ad1488f6f076"
      },
      "outputs": [
        {
          "metadata": {
            "tags": null
          },
          "name": "stderr",
          "output_type": "stream",
          "text": [
            "/usr/local/lib/python3.10/dist-packages/torch/_compile.py:32: UserWarning: optimizer contains a parameter group with duplicate parameters; in future, this will cause an error; see github.com/pytorch/pytorch/issues/40967 for more information\n",
            "  return disable_fn(*args, **kwargs)\n"
          ]
        },
        {
          "output_type": "stream",
          "name": "stdout",
          "text": [
            "0 0.1726270318031311\n",
            "1000 0.061138052493333817\n",
            "2000 0.00576598197221756\n",
            "3000 0.0049284156411886215\n",
            "4000 0.004241284914314747\n",
            "5000 0.004621595144271851\n",
            "6000 0.004270385950803757\n",
            "7000 0.00396521482616663\n",
            "8000 0.0034785193856805563\n",
            "9000 0.0028485064394772053\n"
          ]
        }
      ],
      "source": [
        "torch.manual_seed(63)\n",
        "n = 7\n",
        "mp = 3\n",
        "layers = []\n",
        "nlay = 20\n",
        "for i in range(nlay+1):\n",
        "  params, params_np = get_params(mp,optim = False)\n",
        "  layers.append(params)\n",
        "\n",
        "# collecting all the parameters in a list\n",
        "param = [] # the list of parameters\n",
        "for i in range(nlay+1):\n",
        "  param = param + layers[i]#[layers[i][0]]\n",
        "  param = param + layers[i]#[layers[i][2]]\n",
        "# optimization method\n",
        "lr = 0.001\n",
        "optim = torch.optim.Adam(param,lr=lr )\n",
        "\n",
        "T = 10000\n",
        "gamma = 0.05\n",
        "ss  = 500\n",
        "\n",
        "layers = optimize(layers,get_truncated_Z,optim,n,mp,lr,gamma,T,ss)"
      ]
    },
    {
      "cell_type": "code",
      "execution_count": null,
      "metadata": {
        "colab": {
          "base_uri": "https://localhost:8080/",
          "height": 1000
        },
        "id": "I1h9wG344qkM",
        "outputId": "d526ba7b-dfc3-4020-ee05-f03c33bcc479"
      },
      "outputs": [
        {
          "output_type": "display_data",
          "data": {
            "text/plain": [
              "<IPython.core.display.Javascript object>"
            ],
            "application/javascript": [
              "\n",
              "    async function download(id, filename, size) {\n",
              "      if (!google.colab.kernel.accessAllowed) {\n",
              "        return;\n",
              "      }\n",
              "      const div = document.createElement('div');\n",
              "      const label = document.createElement('label');\n",
              "      label.textContent = `Downloading \"${filename}\": `;\n",
              "      div.appendChild(label);\n",
              "      const progress = document.createElement('progress');\n",
              "      progress.max = size;\n",
              "      div.appendChild(progress);\n",
              "      document.body.appendChild(div);\n",
              "\n",
              "      const buffers = [];\n",
              "      let downloaded = 0;\n",
              "\n",
              "      const channel = await google.colab.kernel.comms.open(id);\n",
              "      // Send a message to notify the kernel that we're ready.\n",
              "      channel.send({})\n",
              "\n",
              "      for await (const message of channel.messages) {\n",
              "        // Send a message to notify the kernel that we're ready.\n",
              "        channel.send({})\n",
              "        if (message.buffers) {\n",
              "          for (const buffer of message.buffers) {\n",
              "            buffers.push(buffer);\n",
              "            downloaded += buffer.byteLength;\n",
              "            progress.value = downloaded;\n",
              "          }\n",
              "        }\n",
              "      }\n",
              "      const blob = new Blob(buffers, {type: 'application/binary'});\n",
              "      const a = document.createElement('a');\n",
              "      a.href = window.URL.createObjectURL(blob);\n",
              "      a.download = filename;\n",
              "      div.appendChild(a);\n",
              "      a.click();\n",
              "      div.remove();\n",
              "    }\n",
              "  "
            ]
          },
          "metadata": {}
        },
        {
          "output_type": "display_data",
          "data": {
            "text/plain": [
              "<IPython.core.display.Javascript object>"
            ],
            "application/javascript": [
              "download(\"download_d71b35a5-5bfc-4cc1-b060-a45cdd26db3e\", \"att0_7.pdf\", 9332)"
            ]
          },
          "metadata": {}
        },
        {
          "output_type": "display_data",
          "data": {
            "text/plain": [
              "<IPython.core.display.Javascript object>"
            ],
            "application/javascript": [
              "\n",
              "    async function download(id, filename, size) {\n",
              "      if (!google.colab.kernel.accessAllowed) {\n",
              "        return;\n",
              "      }\n",
              "      const div = document.createElement('div');\n",
              "      const label = document.createElement('label');\n",
              "      label.textContent = `Downloading \"${filename}\": `;\n",
              "      div.appendChild(label);\n",
              "      const progress = document.createElement('progress');\n",
              "      progress.max = size;\n",
              "      div.appendChild(progress);\n",
              "      document.body.appendChild(div);\n",
              "\n",
              "      const buffers = [];\n",
              "      let downloaded = 0;\n",
              "\n",
              "      const channel = await google.colab.kernel.comms.open(id);\n",
              "      // Send a message to notify the kernel that we're ready.\n",
              "      channel.send({})\n",
              "\n",
              "      for await (const message of channel.messages) {\n",
              "        // Send a message to notify the kernel that we're ready.\n",
              "        channel.send({})\n",
              "        if (message.buffers) {\n",
              "          for (const buffer of message.buffers) {\n",
              "            buffers.push(buffer);\n",
              "            downloaded += buffer.byteLength;\n",
              "            progress.value = downloaded;\n",
              "          }\n",
              "        }\n",
              "      }\n",
              "      const blob = new Blob(buffers, {type: 'application/binary'});\n",
              "      const a = document.createElement('a');\n",
              "      a.href = window.URL.createObjectURL(blob);\n",
              "      a.download = filename;\n",
              "      div.appendChild(a);\n",
              "      a.click();\n",
              "      div.remove();\n",
              "    }\n",
              "  "
            ]
          },
          "metadata": {}
        },
        {
          "output_type": "display_data",
          "data": {
            "text/plain": [
              "<IPython.core.display.Javascript object>"
            ],
            "application/javascript": [
              "download(\"download_c66e9613-1a95-42bf-bc18-226100f9d194\", \"att5_7.pdf\", 9074)"
            ]
          },
          "metadata": {}
        },
        {
          "output_type": "display_data",
          "data": {
            "text/plain": [
              "<IPython.core.display.Javascript object>"
            ],
            "application/javascript": [
              "\n",
              "    async function download(id, filename, size) {\n",
              "      if (!google.colab.kernel.accessAllowed) {\n",
              "        return;\n",
              "      }\n",
              "      const div = document.createElement('div');\n",
              "      const label = document.createElement('label');\n",
              "      label.textContent = `Downloading \"${filename}\": `;\n",
              "      div.appendChild(label);\n",
              "      const progress = document.createElement('progress');\n",
              "      progress.max = size;\n",
              "      div.appendChild(progress);\n",
              "      document.body.appendChild(div);\n",
              "\n",
              "      const buffers = [];\n",
              "      let downloaded = 0;\n",
              "\n",
              "      const channel = await google.colab.kernel.comms.open(id);\n",
              "      // Send a message to notify the kernel that we're ready.\n",
              "      channel.send({})\n",
              "\n",
              "      for await (const message of channel.messages) {\n",
              "        // Send a message to notify the kernel that we're ready.\n",
              "        channel.send({})\n",
              "        if (message.buffers) {\n",
              "          for (const buffer of message.buffers) {\n",
              "            buffers.push(buffer);\n",
              "            downloaded += buffer.byteLength;\n",
              "            progress.value = downloaded;\n",
              "          }\n",
              "        }\n",
              "      }\n",
              "      const blob = new Blob(buffers, {type: 'application/binary'});\n",
              "      const a = document.createElement('a');\n",
              "      a.href = window.URL.createObjectURL(blob);\n",
              "      a.download = filename;\n",
              "      div.appendChild(a);\n",
              "      a.click();\n",
              "      div.remove();\n",
              "    }\n",
              "  "
            ]
          },
          "metadata": {}
        },
        {
          "output_type": "display_data",
          "data": {
            "text/plain": [
              "<IPython.core.display.Javascript object>"
            ],
            "application/javascript": [
              "download(\"download_e31c906a-c147-412f-8fce-619acc30c1cc\", \"att10_7.pdf\", 9092)"
            ]
          },
          "metadata": {}
        },
        {
          "output_type": "display_data",
          "data": {
            "text/plain": [
              "<IPython.core.display.Javascript object>"
            ],
            "application/javascript": [
              "\n",
              "    async function download(id, filename, size) {\n",
              "      if (!google.colab.kernel.accessAllowed) {\n",
              "        return;\n",
              "      }\n",
              "      const div = document.createElement('div');\n",
              "      const label = document.createElement('label');\n",
              "      label.textContent = `Downloading \"${filename}\": `;\n",
              "      div.appendChild(label);\n",
              "      const progress = document.createElement('progress');\n",
              "      progress.max = size;\n",
              "      div.appendChild(progress);\n",
              "      document.body.appendChild(div);\n",
              "\n",
              "      const buffers = [];\n",
              "      let downloaded = 0;\n",
              "\n",
              "      const channel = await google.colab.kernel.comms.open(id);\n",
              "      // Send a message to notify the kernel that we're ready.\n",
              "      channel.send({})\n",
              "\n",
              "      for await (const message of channel.messages) {\n",
              "        // Send a message to notify the kernel that we're ready.\n",
              "        channel.send({})\n",
              "        if (message.buffers) {\n",
              "          for (const buffer of message.buffers) {\n",
              "            buffers.push(buffer);\n",
              "            downloaded += buffer.byteLength;\n",
              "            progress.value = downloaded;\n",
              "          }\n",
              "        }\n",
              "      }\n",
              "      const blob = new Blob(buffers, {type: 'application/binary'});\n",
              "      const a = document.createElement('a');\n",
              "      a.href = window.URL.createObjectURL(blob);\n",
              "      a.download = filename;\n",
              "      div.appendChild(a);\n",
              "      a.click();\n",
              "      div.remove();\n",
              "    }\n",
              "  "
            ]
          },
          "metadata": {}
        },
        {
          "output_type": "display_data",
          "data": {
            "text/plain": [
              "<IPython.core.display.Javascript object>"
            ],
            "application/javascript": [
              "download(\"download_a3b8cecc-e22a-47cb-985d-fd470ff513a9\", \"att15_7.pdf\", 9091)"
            ]
          },
          "metadata": {}
        },
        {
          "output_type": "display_data",
          "data": {
            "text/plain": [
              "<IPython.core.display.Javascript object>"
            ],
            "application/javascript": [
              "\n",
              "    async function download(id, filename, size) {\n",
              "      if (!google.colab.kernel.accessAllowed) {\n",
              "        return;\n",
              "      }\n",
              "      const div = document.createElement('div');\n",
              "      const label = document.createElement('label');\n",
              "      label.textContent = `Downloading \"${filename}\": `;\n",
              "      div.appendChild(label);\n",
              "      const progress = document.createElement('progress');\n",
              "      progress.max = size;\n",
              "      div.appendChild(progress);\n",
              "      document.body.appendChild(div);\n",
              "\n",
              "      const buffers = [];\n",
              "      let downloaded = 0;\n",
              "\n",
              "      const channel = await google.colab.kernel.comms.open(id);\n",
              "      // Send a message to notify the kernel that we're ready.\n",
              "      channel.send({})\n",
              "\n",
              "      for await (const message of channel.messages) {\n",
              "        // Send a message to notify the kernel that we're ready.\n",
              "        channel.send({})\n",
              "        if (message.buffers) {\n",
              "          for (const buffer of message.buffers) {\n",
              "            buffers.push(buffer);\n",
              "            downloaded += buffer.byteLength;\n",
              "            progress.value = downloaded;\n",
              "          }\n",
              "        }\n",
              "      }\n",
              "      const blob = new Blob(buffers, {type: 'application/binary'});\n",
              "      const a = document.createElement('a');\n",
              "      a.href = window.URL.createObjectURL(blob);\n",
              "      a.download = filename;\n",
              "      div.appendChild(a);\n",
              "      a.click();\n",
              "      div.remove();\n",
              "    }\n",
              "  "
            ]
          },
          "metadata": {}
        },
        {
          "output_type": "display_data",
          "data": {
            "text/plain": [
              "<IPython.core.display.Javascript object>"
            ],
            "application/javascript": [
              "download(\"download_404e84cd-2864-432f-8c46-25c8f5147008\", \"att_last_7.pdf\", 9111)"
            ]
          },
          "metadata": {}
        },
        {
          "output_type": "display_data",
          "data": {
            "text/plain": [
              "<IPython.core.display.Javascript object>"
            ],
            "application/javascript": [
              "\n",
              "    async function download(id, filename, size) {\n",
              "      if (!google.colab.kernel.accessAllowed) {\n",
              "        return;\n",
              "      }\n",
              "      const div = document.createElement('div');\n",
              "      const label = document.createElement('label');\n",
              "      label.textContent = `Downloading \"${filename}\": `;\n",
              "      div.appendChild(label);\n",
              "      const progress = document.createElement('progress');\n",
              "      progress.max = size;\n",
              "      div.appendChild(progress);\n",
              "      document.body.appendChild(div);\n",
              "\n",
              "      const buffers = [];\n",
              "      let downloaded = 0;\n",
              "\n",
              "      const channel = await google.colab.kernel.comms.open(id);\n",
              "      // Send a message to notify the kernel that we're ready.\n",
              "      channel.send({})\n",
              "\n",
              "      for await (const message of channel.messages) {\n",
              "        // Send a message to notify the kernel that we're ready.\n",
              "        channel.send({})\n",
              "        if (message.buffers) {\n",
              "          for (const buffer of message.buffers) {\n",
              "            buffers.push(buffer);\n",
              "            downloaded += buffer.byteLength;\n",
              "            progress.value = downloaded;\n",
              "          }\n",
              "        }\n",
              "      }\n",
              "      const blob = new Blob(buffers, {type: 'application/binary'});\n",
              "      const a = document.createElement('a');\n",
              "      a.href = window.URL.createObjectURL(blob);\n",
              "      a.download = filename;\n",
              "      div.appendChild(a);\n",
              "      a.click();\n",
              "      div.remove();\n",
              "    }\n",
              "  "
            ]
          },
          "metadata": {}
        },
        {
          "output_type": "display_data",
          "data": {
            "text/plain": [
              "<IPython.core.display.Javascript object>"
            ],
            "application/javascript": [
              "download(\"download_512bc7a9-7f63-4d1f-9807-d35b2000791e\", \"ground7.png\", 10271)"
            ]
          },
          "metadata": {}
        },
        {
          "output_type": "display_data",
          "data": {
            "text/plain": [
              "<Figure size 640x480 with 2 Axes>"
            ],
            "image/png": "[encoded data removed]"
          },
          "metadata": {}
        },
        {
          "output_type": "display_data",
          "data": {
            "text/plain": [
              "<Figure size 640x480 with 2 Axes>"
            ],
            "image/png": "[encoded data removed]"
          },
          "metadata": {}
        },
        {
          "output_type": "display_data",
          "data": {
            "text/plain": [
              "<Figure size 640x480 with 2 Axes>"
            ],
            "image/png": "[encoded data removed]"
          },
          "metadata": {}
        },
        {
          "output_type": "display_data",
          "data": {
            "text/plain": [
              "<Figure size 640x480 with 2 Axes>"
            ],
            "image/png": "[encoded data removed]"
          },
          "metadata": {}
        },
        {
          "output_type": "display_data",
          "data": {
            "text/plain": [
              "<Figure size 640x480 with 2 Axes>"
            ],
            "image/png": "[encoded data removed]"
          },
          "metadata": {}
        },
        {
          "output_type": "display_data",
          "data": {
            "text/plain": [
              "<Figure size 640x480 with 2 Axes>"
            ],
            "image/png": "[encoded data removed]"
          },
          "metadata": {}
        }
      ],
      "source": [
        "from google.colab import files\n",
        "n = 7\n",
        "Z_tr,tensor_opt = get_truncated_Z(1,n)\n",
        "def atten_pattern_tr(Z_tr,params,ind=0):\n",
        "  A = torch.einsum('nij,jk,nmk->nim',(Z_tr, params[ind],Z_tr))\n",
        "  n = Z_tr.size(1)-1\n",
        "  ss = Z_tr.size(0)\n",
        "  B = np.zeros((ss,n+1,n+1))\n",
        "  B[:,:,n] = float('-inf')\n",
        "  M = torch.exp(A+torch.tensor(B).type(dtype))\n",
        "  mp = Z_tr.size(2)\n",
        "  # P = np.zeros((mp,mp))\n",
        "  # P[1,10] = 1.0\n",
        "  # P = torch.tensor(P)\n",
        "  M = torch.nn.functional.normalize(M,dim=2,p=1,eps=0)\n",
        "  return M\n",
        "# nlay = 20\n",
        "# for i in range(nlay+1):\n",
        "#   params, params_np = get_params(mp,optim = True)\n",
        "#   layers.append(params)\n",
        "# Z_tr,tensor_opt = generateZ(1,n)\n",
        "Z0 = Z_tr.clone()\n",
        "for j in range(nlay-1):\n",
        "  ptr = atten_pattern_tr(Z0,layers[nlay],ind=0)[0,0:n,0:n]\n",
        "  Q0 = layers[j][0]\n",
        "  P0 = layers[j][1]\n",
        "  Q1 = layers[j][2]\n",
        "  P1 = layers[j][3]\n",
        "  A1 = atten_tr(Z0,Q0,P0)\n",
        "  A2 = atten_tr(Z0,Q1,P1)\n",
        "  Z0 = Z0 - gamma*A1 - gamma*A2\n",
        "  if j % 5 == 0:\n",
        "    plt.figure()\n",
        "    plt.imshow(ptr.cpu().detach().numpy())\n",
        "    plt.colorbar()\n",
        "    name = 'att%d_7.pdf' % j\n",
        "    plt.savefig(name,format='pdf',bbox_inches='tight')\n",
        "    files.download(name)\n",
        "ptr = atten_pattern_tr(Z0,layers[nlay],ind=0)[0,0:n,0:n]\n",
        "  # if j % 1 == 0:\n",
        "plt.figure()\n",
        "plt.imshow(ptr.cpu().detach().numpy())\n",
        "plt.colorbar()\n",
        "name = 'att_last_7.pdf'\n",
        "plt.savefig(name,format='pdf',bbox_inches='tight')\n",
        "files.download(name)\n",
        "\n",
        "x0 = Z_tr[0,0:n,0].cpu().detach().numpy()\n",
        "inds = np.argsort(x0)\n",
        "P = np.zeros((n,n))\n",
        "for i in range(n):\n",
        "  P[i,inds[i]] = 1\n",
        "plt.figure()\n",
        "plt.imshow(P)\n",
        "plt.colorbar()\n",
        "name = 'ground7.png'\n",
        "plt.savefig(name,format='png',bbox_inches='tight')\n",
        "files.download(name)"
      ]
    },
    {
      "cell_type": "code",
      "execution_count": null,
      "metadata": {
        "colab": {
          "base_uri": "https://localhost:8080/"
        },
        "id": "wx2RoBrp84ub",
        "outputId": "169c2cf4-eea0-4317-8325-589bde66ae90"
      },
      "outputs": [
        {
          "output_type": "stream",
          "name": "stderr",
          "text": [
            "/usr/local/lib/python3.10/dist-packages/torch/_compile.py:32: UserWarning: optimizer contains a parameter group with duplicate parameters; in future, this will cause an error; see github.com/pytorch/pytorch/issues/40967 for more information\n",
            "  return disable_fn(*args, **kwargs)\n"
          ]
        },
        {
          "output_type": "stream",
          "name": "stdout",
          "text": [
            "0 0.16167424619197845\n",
            "1000 0.025512458756566048\n",
            "2000 0.011969669722020626\n",
            "3000 0.007251075468957424\n",
            "4000 0.005052809603512287\n",
            "5000 0.003775590332224965\n",
            "6000 0.0026525382418185472\n",
            "7000 0.0017555495724081993\n",
            "8000 0.0010460891062393785\n",
            "9000 0.0006660950602963567\n"
          ]
        }
      ],
      "source": [
        "# with prompt engineering\n",
        "n = 7\n",
        "mp = 11\n",
        "layers = []\n",
        "nlay = 20\n",
        "for i in range(nlay+1):\n",
        "  params, params_np = get_params(mp,optim = False)\n",
        "  layers.append(params)\n",
        "\n",
        "\n",
        "# collecting all the parameters in a list\n",
        "param = [] # the list of parameters\n",
        "for i in range(nlay+1):\n",
        "  param = param + layers[i]#[layers[i][0]]\n",
        "  param = param + layers[i]#[layers[i][2]]\n",
        "# optimization method\n",
        "lr = 0.0001\n",
        "optim = torch.optim.Adam(param,lr=lr )\n",
        "\n",
        "T = 10000\n",
        "gamma = 0.05\n",
        "ss  = 500\n",
        "\n",
        "layers = optimize(layers,generateZ,optim,n,mp,lr,gamma,T,ss)\n"
      ]
    },
    {
      "cell_type": "code",
      "execution_count": null,
      "metadata": {
        "id": "JB7pe3fhy8CP"
      },
      "outputs": [],
      "source": [
        "def generateZ1(ss,n,xin, eta=0.01):\n",
        "  x = []\n",
        "  y = []\n",
        "  opt = []\n",
        "  for i in range(ss):\n",
        "    x0 = xin\n",
        "    y0 = np.zeros(n)\n",
        "    for j in range(n):\n",
        "      y0[j] = j/float(n)\n",
        "    x.append(x0)\n",
        "    y.append(y0)\n",
        "    opt.append(torch.tensor(sorted(x0)))\n",
        "  tensor_opt = torch.stack(opt)\n",
        "  y = np.asarray(y)\n",
        "  x = np.asarray(x)\n",
        "  Y = torch.tensor(y)\n",
        "  X = torch.tensor(x)\n",
        "  Zs = []\n",
        "  out = torch.tensor(y0)\n",
        "  for j in range(ss):\n",
        "    x = X[j,:]\n",
        "    y = Y[j,:]\n",
        "    Z = []\n",
        "    Z.append(np.r_[x**2,0])\n",
        "    Z.append(np.r_[x,0])\n",
        "    Z.append(np.r_[y**2,0])\n",
        "    Z.append(np.r_[y,0])\n",
        "    for i in range(3):\n",
        "      Z.append(np.r_[np.ones(n),0])\n",
        "    Z.append(np.r_[np.ones(n),-1/n])\n",
        "    u = np.random.randn(n)\n",
        "    v = np.random.rand(n)\n",
        "    Z.append(np.r_[u,0])\n",
        "    Z.append(np.r_[v,0])\n",
        "    Z.append(np.r_[np.zeros(n),0])\n",
        "    Z = np.asarray(Z)\n",
        "    Z = torch.tensor(Z).type(dtype)\n",
        "    Z = Z.T\n",
        "    Zs.append(Z)\n",
        "  return torch.stack(Zs), tensor_opt.type(dtype)"
      ]
    },
    {
      "cell_type": "code",
      "execution_count": null,
      "metadata": {
        "colab": {
          "base_uri": "https://localhost:8080/",
          "height": 1000
        },
        "id": "_4QY1Vdm0Kew",
        "outputId": "10010807-8b54-411d-a2cc-cc5566a326ce"
      },
      "outputs": [
        {
          "output_type": "display_data",
          "data": {
            "text/plain": [
              "<IPython.core.display.Javascript object>"
            ],
            "application/javascript": [
              "\n",
              "    async function download(id, filename, size) {\n",
              "      if (!google.colab.kernel.accessAllowed) {\n",
              "        return;\n",
              "      }\n",
              "      const div = document.createElement('div');\n",
              "      const label = document.createElement('label');\n",
              "      label.textContent = `Downloading \"${filename}\": `;\n",
              "      div.appendChild(label);\n",
              "      const progress = document.createElement('progress');\n",
              "      progress.max = size;\n",
              "      div.appendChild(progress);\n",
              "      document.body.appendChild(div);\n",
              "\n",
              "      const buffers = [];\n",
              "      let downloaded = 0;\n",
              "\n",
              "      const channel = await google.colab.kernel.comms.open(id);\n",
              "      // Send a message to notify the kernel that we're ready.\n",
              "      channel.send({})\n",
              "\n",
              "      for await (const message of channel.messages) {\n",
              "        // Send a message to notify the kernel that we're ready.\n",
              "        channel.send({})\n",
              "        if (message.buffers) {\n",
              "          for (const buffer of message.buffers) {\n",
              "            buffers.push(buffer);\n",
              "            downloaded += buffer.byteLength;\n",
              "            progress.value = downloaded;\n",
              "          }\n",
              "        }\n",
              "      }\n",
              "      const blob = new Blob(buffers, {type: 'application/binary'});\n",
              "      const a = document.createElement('a');\n",
              "      a.href = window.URL.createObjectURL(blob);\n",
              "      a.download = filename;\n",
              "      div.appendChild(a);\n",
              "      a.click();\n",
              "      div.remove();\n",
              "    }\n",
              "  "
            ]
          },
          "metadata": {}
        },
        {
          "output_type": "display_data",
          "data": {
            "text/plain": [
              "<IPython.core.display.Javascript object>"
            ],
            "application/javascript": [
              "download(\"download_a41ff75c-b1ac-41cb-af2c-c95192608b33\", \"att0_7_prompt.pdf\", 9667)"
            ]
          },
          "metadata": {}
        },
        {
          "output_type": "display_data",
          "data": {
            "text/plain": [
              "<IPython.core.display.Javascript object>"
            ],
            "application/javascript": [
              "\n",
              "    async function download(id, filename, size) {\n",
              "      if (!google.colab.kernel.accessAllowed) {\n",
              "        return;\n",
              "      }\n",
              "      const div = document.createElement('div');\n",
              "      const label = document.createElement('label');\n",
              "      label.textContent = `Downloading \"${filename}\": `;\n",
              "      div.appendChild(label);\n",
              "      const progress = document.createElement('progress');\n",
              "      progress.max = size;\n",
              "      div.appendChild(progress);\n",
              "      document.body.appendChild(div);\n",
              "\n",
              "      const buffers = [];\n",
              "      let downloaded = 0;\n",
              "\n",
              "      const channel = await google.colab.kernel.comms.open(id);\n",
              "      // Send a message to notify the kernel that we're ready.\n",
              "      channel.send({})\n",
              "\n",
              "      for await (const message of channel.messages) {\n",
              "        // Send a message to notify the kernel that we're ready.\n",
              "        channel.send({})\n",
              "        if (message.buffers) {\n",
              "          for (const buffer of message.buffers) {\n",
              "            buffers.push(buffer);\n",
              "            downloaded += buffer.byteLength;\n",
              "            progress.value = downloaded;\n",
              "          }\n",
              "        }\n",
              "      }\n",
              "      const blob = new Blob(buffers, {type: 'application/binary'});\n",
              "      const a = document.createElement('a');\n",
              "      a.href = window.URL.createObjectURL(blob);\n",
              "      a.download = filename;\n",
              "      div.appendChild(a);\n",
              "      a.click();\n",
              "      div.remove();\n",
              "    }\n",
              "  "
            ]
          },
          "metadata": {}
        },
        {
          "output_type": "display_data",
          "data": {
            "text/plain": [
              "<IPython.core.display.Javascript object>"
            ],
            "application/javascript": [
              "download(\"download_19e77459-d9fa-42d4-9c6f-9d30b74ab821\", \"att5_7_prompt.pdf\", 9129)"
            ]
          },
          "metadata": {}
        },
        {
          "output_type": "display_data",
          "data": {
            "text/plain": [
              "<IPython.core.display.Javascript object>"
            ],
            "application/javascript": [
              "\n",
              "    async function download(id, filename, size) {\n",
              "      if (!google.colab.kernel.accessAllowed) {\n",
              "        return;\n",
              "      }\n",
              "      const div = document.createElement('div');\n",
              "      const label = document.createElement('label');\n",
              "      label.textContent = `Downloading \"${filename}\": `;\n",
              "      div.appendChild(label);\n",
              "      const progress = document.createElement('progress');\n",
              "      progress.max = size;\n",
              "      div.appendChild(progress);\n",
              "      document.body.appendChild(div);\n",
              "\n",
              "      const buffers = [];\n",
              "      let downloaded = 0;\n",
              "\n",
              "      const channel = await google.colab.kernel.comms.open(id);\n",
              "      // Send a message to notify the kernel that we're ready.\n",
              "      channel.send({})\n",
              "\n",
              "      for await (const message of channel.messages) {\n",
              "        // Send a message to notify the kernel that we're ready.\n",
              "        channel.send({})\n",
              "        if (message.buffers) {\n",
              "          for (const buffer of message.buffers) {\n",
              "            buffers.push(buffer);\n",
              "            downloaded += buffer.byteLength;\n",
              "            progress.value = downloaded;\n",
              "          }\n",
              "        }\n",
              "      }\n",
              "      const blob = new Blob(buffers, {type: 'application/binary'});\n",
              "      const a = document.createElement('a');\n",
              "      a.href = window.URL.createObjectURL(blob);\n",
              "      a.download = filename;\n",
              "      div.appendChild(a);\n",
              "      a.click();\n",
              "      div.remove();\n",
              "    }\n",
              "  "
            ]
          },
          "metadata": {}
        },
        {
          "output_type": "display_data",
          "data": {
            "text/plain": [
              "<IPython.core.display.Javascript object>"
            ],
            "application/javascript": [
              "download(\"download_6ac8e27a-ac8f-47b4-bbfb-a203c9b65def\", \"att10_7_prompt.pdf\", 9106)"
            ]
          },
          "metadata": {}
        },
        {
          "output_type": "display_data",
          "data": {
            "text/plain": [
              "<IPython.core.display.Javascript object>"
            ],
            "application/javascript": [
              "\n",
              "    async function download(id, filename, size) {\n",
              "      if (!google.colab.kernel.accessAllowed) {\n",
              "        return;\n",
              "      }\n",
              "      const div = document.createElement('div');\n",
              "      const label = document.createElement('label');\n",
              "      label.textContent = `Downloading \"${filename}\": `;\n",
              "      div.appendChild(label);\n",
              "      const progress = document.createElement('progress');\n",
              "      progress.max = size;\n",
              "      div.appendChild(progress);\n",
              "      document.body.appendChild(div);\n",
              "\n",
              "      const buffers = [];\n",
              "      let downloaded = 0;\n",
              "\n",
              "      const channel = await google.colab.kernel.comms.open(id);\n",
              "      // Send a message to notify the kernel that we're ready.\n",
              "      channel.send({})\n",
              "\n",
              "      for await (const message of channel.messages) {\n",
              "        // Send a message to notify the kernel that we're ready.\n",
              "        channel.send({})\n",
              "        if (message.buffers) {\n",
              "          for (const buffer of message.buffers) {\n",
              "            buffers.push(buffer);\n",
              "            downloaded += buffer.byteLength;\n",
              "            progress.value = downloaded;\n",
              "          }\n",
              "        }\n",
              "      }\n",
              "      const blob = new Blob(buffers, {type: 'application/binary'});\n",
              "      const a = document.createElement('a');\n",
              "      a.href = window.URL.createObjectURL(blob);\n",
              "      a.download = filename;\n",
              "      div.appendChild(a);\n",
              "      a.click();\n",
              "      div.remove();\n",
              "    }\n",
              "  "
            ]
          },
          "metadata": {}
        },
        {
          "output_type": "display_data",
          "data": {
            "text/plain": [
              "<IPython.core.display.Javascript object>"
            ],
            "application/javascript": [
              "download(\"download_7b1bebed-46a5-4781-9bd5-505430e4f27e\", \"att15_7_prompt.pdf\", 9640)"
            ]
          },
          "metadata": {}
        },
        {
          "output_type": "display_data",
          "data": {
            "text/plain": [
              "<IPython.core.display.Javascript object>"
            ],
            "application/javascript": [
              "\n",
              "    async function download(id, filename, size) {\n",
              "      if (!google.colab.kernel.accessAllowed) {\n",
              "        return;\n",
              "      }\n",
              "      const div = document.createElement('div');\n",
              "      const label = document.createElement('label');\n",
              "      label.textContent = `Downloading \"${filename}\": `;\n",
              "      div.appendChild(label);\n",
              "      const progress = document.createElement('progress');\n",
              "      progress.max = size;\n",
              "      div.appendChild(progress);\n",
              "      document.body.appendChild(div);\n",
              "\n",
              "      const buffers = [];\n",
              "      let downloaded = 0;\n",
              "\n",
              "      const channel = await google.colab.kernel.comms.open(id);\n",
              "      // Send a message to notify the kernel that we're ready.\n",
              "      channel.send({})\n",
              "\n",
              "      for await (const message of channel.messages) {\n",
              "        // Send a message to notify the kernel that we're ready.\n",
              "        channel.send({})\n",
              "        if (message.buffers) {\n",
              "          for (const buffer of message.buffers) {\n",
              "            buffers.push(buffer);\n",
              "            downloaded += buffer.byteLength;\n",
              "            progress.value = downloaded;\n",
              "          }\n",
              "        }\n",
              "      }\n",
              "      const blob = new Blob(buffers, {type: 'application/binary'});\n",
              "      const a = document.createElement('a');\n",
              "      a.href = window.URL.createObjectURL(blob);\n",
              "      a.download = filename;\n",
              "      div.appendChild(a);\n",
              "      a.click();\n",
              "      div.remove();\n",
              "    }\n",
              "  "
            ]
          },
          "metadata": {}
        },
        {
          "output_type": "display_data",
          "data": {
            "text/plain": [
              "<IPython.core.display.Javascript object>"
            ],
            "application/javascript": [
              "download(\"download_76cfebaf-8d6a-4858-a8d1-aad8d587c8be\", \"att_last_7_prompt.pdf\", 9946)"
            ]
          },
          "metadata": {}
        },
        {
          "output_type": "display_data",
          "data": {
            "text/plain": [
              "<IPython.core.display.Javascript object>"
            ],
            "application/javascript": [
              "\n",
              "    async function download(id, filename, size) {\n",
              "      if (!google.colab.kernel.accessAllowed) {\n",
              "        return;\n",
              "      }\n",
              "      const div = document.createElement('div');\n",
              "      const label = document.createElement('label');\n",
              "      label.textContent = `Downloading \"${filename}\": `;\n",
              "      div.appendChild(label);\n",
              "      const progress = document.createElement('progress');\n",
              "      progress.max = size;\n",
              "      div.appendChild(progress);\n",
              "      document.body.appendChild(div);\n",
              "\n",
              "      const buffers = [];\n",
              "      let downloaded = 0;\n",
              "\n",
              "      const channel = await google.colab.kernel.comms.open(id);\n",
              "      // Send a message to notify the kernel that we're ready.\n",
              "      channel.send({})\n",
              "\n",
              "      for await (const message of channel.messages) {\n",
              "        // Send a message to notify the kernel that we're ready.\n",
              "        channel.send({})\n",
              "        if (message.buffers) {\n",
              "          for (const buffer of message.buffers) {\n",
              "            buffers.push(buffer);\n",
              "            downloaded += buffer.byteLength;\n",
              "            progress.value = downloaded;\n",
              "          }\n",
              "        }\n",
              "      }\n",
              "      const blob = new Blob(buffers, {type: 'application/binary'});\n",
              "      const a = document.createElement('a');\n",
              "      a.href = window.URL.createObjectURL(blob);\n",
              "      a.download = filename;\n",
              "      div.appendChild(a);\n",
              "      a.click();\n",
              "      div.remove();\n",
              "    }\n",
              "  "
            ]
          },
          "metadata": {}
        },
        {
          "output_type": "display_data",
          "data": {
            "text/plain": [
              "<IPython.core.display.Javascript object>"
            ],
            "application/javascript": [
              "download(\"download_9de2780f-54e6-4c0a-b343-f78e51259431\", \"ground7_prompt.png\", 10271)"
            ]
          },
          "metadata": {}
        },
        {
          "output_type": "display_data",
          "data": {
            "text/plain": [
              "<Figure size 640x480 with 2 Axes>"
            ],
            "image/png": "[encoded data removed]"
          },
          "metadata": {}
        },
        {
          "output_type": "display_data",
          "data": {
            "text/plain": [
              "<Figure size 640x480 with 2 Axes>"
            ],
            "image/png": "[encoded data removed]"
          },
          "metadata": {}
        },
        {
          "output_type": "display_data",
          "data": {
            "text/plain": [
              "<Figure size 640x480 with 2 Axes>"
            ],
            "image/png": "[encoded data removed]"
          },
          "metadata": {}
        },
        {
          "output_type": "display_data",
          "data": {
            "text/plain": [
              "<Figure size 640x480 with 2 Axes>"
            ],
            "image/png": "[encoded data removed]"
          },
          "metadata": {}
        },
        {
          "output_type": "display_data",
          "data": {
            "text/plain": [
              "<Figure size 640x480 with 2 Axes>"
            ],
            "image/png": "[encoded data removed]"
          },
          "metadata": {}
        },
        {
          "output_type": "display_data",
          "data": {
            "text/plain": [
              "<Figure size 640x480 with 2 Axes>"
            ],
            "image/png": "[encoded data removed]"
          },
          "metadata": {}
        }
      ],
      "source": [
        "from google.colab import files\n",
        "n = 7\n",
        "Z_tr,tensor_opt = generateZ1(1,n,x0)\n",
        "def atten_pattern_tr(Z_tr,params,ind=0):\n",
        "  A = torch.einsum('nij,jk,nmk->nim',(Z_tr, params[ind],Z_tr))\n",
        "  n = Z_tr.size(1)-1\n",
        "  ss = Z_tr.size(0)\n",
        "  B = np.zeros((ss,n+1,n+1))\n",
        "  B[:,:,n] = float('-inf')\n",
        "  M = torch.exp(A+torch.tensor(B).type(dtype))\n",
        "  mp = Z_tr.size(2)\n",
        "  # P = np.zeros((mp,mp))\n",
        "  # P[1,10] = 1.0\n",
        "  # P = torch.tensor(P)\n",
        "  M = torch.nn.functional.normalize(M,dim=2,p=1,eps=0)\n",
        "  return M\n",
        "# nlay = 20\n",
        "# for i in range(nlay+1):\n",
        "#   params, params_np = get_params(mp,optim = True)\n",
        "#   layers.append(params)\n",
        "# Z_tr,tensor_opt = generateZ(1,n)\n",
        "Z0 = Z_tr.clone()\n",
        "for j in range(nlay-1):\n",
        "  ptr = atten_pattern_tr(Z0,layers[nlay],ind=0)[0,0:n,0:n]\n",
        "  Q0 = layers[j][0]\n",
        "  P0 = layers[j][1]\n",
        "  Q1 = layers[j][2]\n",
        "  P1 = layers[j][3]\n",
        "  A1 = atten_tr(Z0,Q0,P0)\n",
        "  A2 = atten_tr(Z0,Q1,P1)\n",
        "  Z0 = Z0 - gamma*A1 - gamma*A2\n",
        "  if j % 5 == 0:\n",
        "    plt.figure()\n",
        "    plt.imshow(ptr.cpu().detach().numpy())\n",
        "    plt.colorbar()\n",
        "    name = 'att%d_7_prompt.pdf' % j\n",
        "    plt.savefig(name,format='pdf',bbox_inches='tight')\n",
        "    files.download(name)\n",
        "ptr = atten_pattern_tr(Z0,layers[nlay],ind=0)[0,0:n,0:n]\n",
        "  # if j % 1 == 0:\n",
        "plt.figure()\n",
        "plt.imshow(ptr.cpu().detach().numpy())\n",
        "plt.colorbar()\n",
        "name = 'att_last_7_prompt.pdf'\n",
        "plt.savefig(name,format='pdf',bbox_inches='tight')\n",
        "files.download(name)\n",
        "\n",
        "x0 = Z_tr[0,0:n,0].cpu().detach().numpy()\n",
        "inds = np.argsort(x0)\n",
        "P = np.zeros((n,n))\n",
        "for i in range(n):\n",
        "  P[i,inds[i]] = 1\n",
        "plt.figure()\n",
        "plt.imshow(P)\n",
        "plt.colorbar()\n",
        "name = 'ground7_prompt.png'\n",
        "plt.savefig(name,format='png',bbox_inches='tight')\n",
        "files.download(name)"
      ]
    },
    {
      "cell_type": "code",
      "execution_count": null,
      "metadata": {
        "id": "BfdkENrF8EF5"
      },
      "outputs": [],
      "source": []
    }
  ],
  "metadata": {
    "accelerator": "GPU",
    "colab": {
      "gpuType": "T4",
      "provenance": [],
      "toc_visible": true
    },
    "kernelspec": {
      "display_name": "Python 3",
      "name": "python3"
    },
    "language_info": {
      "name": "python"
    }
  },
  "nbformat": 4,
  "nbformat_minor": 0
}